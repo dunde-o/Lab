{
 "cells": [
  {
   "metadata": {},
   "cell_type": "markdown",
   "source": "# Swarm 으로 챗봇 만들기",
   "id": "17594ee2cac822f5"
  },
  {
   "metadata": {},
   "cell_type": "markdown",
   "source": "## 준비",
   "id": "1dc5500bbbc94863"
  },
  {
   "metadata": {},
   "cell_type": "markdown",
   "source": "### 라이브러리 설치 및 임포트",
   "id": "68d934b4bb3a2e4b"
  },
  {
   "metadata": {
    "collapsed": true,
    "ExecuteTime": {
     "end_time": "2025-05-18T09:41:07.453783Z",
     "start_time": "2025-05-18T09:40:50.748552Z"
    }
   },
   "cell_type": "code",
   "source": [
    "!pip install git+https://github.com/openai/swarm.git\n",
    "!pip install pydantic langchain langgraph"
   ],
   "id": "initial_id",
   "outputs": [
    {
     "name": "stdout",
     "output_type": "stream",
     "text": [
      "Collecting git+https://github.com/openai/swarm.git\n",
      "  Cloning https://github.com/openai/swarm.git to c:\\users\\inkyu.choi\\appdata\\local\\temp\\pip-req-build-20tym88f\n",
      "  Resolved https://github.com/openai/swarm.git to commit 0c82d7d868bb8e2d380dfd2a319b5c3a1f4c0cb9\n",
      "  Installing build dependencies: started\n",
      "  Installing build dependencies: finished with status 'done'\n",
      "  Getting requirements to build wheel: started\n",
      "  Getting requirements to build wheel: finished with status 'done'\n",
      "  Preparing metadata (pyproject.toml): started\n",
      "  Preparing metadata (pyproject.toml): finished with status 'done'\n",
      "Requirement already satisfied: numpy in d:\\workspace\\repository\\lab\\venv\\lib\\site-packages (from swarm==0.1.0) (2.1.3)\n",
      "Requirement already satisfied: openai>=1.33.0 in d:\\workspace\\repository\\lab\\venv\\lib\\site-packages (from swarm==0.1.0) (1.78.1)\n",
      "Requirement already satisfied: pytest in d:\\workspace\\repository\\lab\\venv\\lib\\site-packages (from swarm==0.1.0) (8.3.5)\n",
      "Requirement already satisfied: requests in d:\\workspace\\repository\\lab\\venv\\lib\\site-packages (from swarm==0.1.0) (2.32.3)\n",
      "Requirement already satisfied: tqdm in d:\\workspace\\repository\\lab\\venv\\lib\\site-packages (from swarm==0.1.0) (4.67.1)\n",
      "Requirement already satisfied: pre-commit in d:\\workspace\\repository\\lab\\venv\\lib\\site-packages (from swarm==0.1.0) (4.2.0)\n",
      "Requirement already satisfied: instructor in d:\\workspace\\repository\\lab\\venv\\lib\\site-packages (from swarm==0.1.0) (1.8.1)\n",
      "Requirement already satisfied: anyio<5,>=3.5.0 in d:\\workspace\\repository\\lab\\venv\\lib\\site-packages (from openai>=1.33.0->swarm==0.1.0) (4.9.0)\n",
      "Requirement already satisfied: distro<2,>=1.7.0 in d:\\workspace\\repository\\lab\\venv\\lib\\site-packages (from openai>=1.33.0->swarm==0.1.0) (1.9.0)\n",
      "Requirement already satisfied: httpx<1,>=0.23.0 in d:\\workspace\\repository\\lab\\venv\\lib\\site-packages (from openai>=1.33.0->swarm==0.1.0) (0.28.1)\n",
      "Requirement already satisfied: jiter<1,>=0.4.0 in d:\\workspace\\repository\\lab\\venv\\lib\\site-packages (from openai>=1.33.0->swarm==0.1.0) (0.8.2)\n",
      "Requirement already satisfied: pydantic<3,>=1.9.0 in d:\\workspace\\repository\\lab\\venv\\lib\\site-packages (from openai>=1.33.0->swarm==0.1.0) (2.11.4)\n",
      "Requirement already satisfied: sniffio in d:\\workspace\\repository\\lab\\venv\\lib\\site-packages (from openai>=1.33.0->swarm==0.1.0) (1.3.1)\n",
      "Requirement already satisfied: typing-extensions<5,>=4.11 in d:\\workspace\\repository\\lab\\venv\\lib\\site-packages (from openai>=1.33.0->swarm==0.1.0) (4.13.2)\n",
      "Requirement already satisfied: idna>=2.8 in d:\\workspace\\repository\\lab\\venv\\lib\\site-packages (from anyio<5,>=3.5.0->openai>=1.33.0->swarm==0.1.0) (3.10)\n",
      "Requirement already satisfied: certifi in d:\\workspace\\repository\\lab\\venv\\lib\\site-packages (from httpx<1,>=0.23.0->openai>=1.33.0->swarm==0.1.0) (2025.4.26)\n",
      "Requirement already satisfied: httpcore==1.* in d:\\workspace\\repository\\lab\\venv\\lib\\site-packages (from httpx<1,>=0.23.0->openai>=1.33.0->swarm==0.1.0) (1.0.9)\n",
      "Requirement already satisfied: h11>=0.16 in d:\\workspace\\repository\\lab\\venv\\lib\\site-packages (from httpcore==1.*->httpx<1,>=0.23.0->openai>=1.33.0->swarm==0.1.0) (0.16.0)\n",
      "Requirement already satisfied: annotated-types>=0.6.0 in d:\\workspace\\repository\\lab\\venv\\lib\\site-packages (from pydantic<3,>=1.9.0->openai>=1.33.0->swarm==0.1.0) (0.7.0)\n",
      "Requirement already satisfied: pydantic-core==2.33.2 in d:\\workspace\\repository\\lab\\venv\\lib\\site-packages (from pydantic<3,>=1.9.0->openai>=1.33.0->swarm==0.1.0) (2.33.2)\n",
      "Requirement already satisfied: typing-inspection>=0.4.0 in d:\\workspace\\repository\\lab\\venv\\lib\\site-packages (from pydantic<3,>=1.9.0->openai>=1.33.0->swarm==0.1.0) (0.4.0)\n",
      "Requirement already satisfied: colorama in d:\\workspace\\repository\\lab\\venv\\lib\\site-packages (from tqdm->swarm==0.1.0) (0.4.6)\n",
      "Requirement already satisfied: aiohttp<4.0.0,>=3.9.1 in d:\\workspace\\repository\\lab\\venv\\lib\\site-packages (from instructor->swarm==0.1.0) (3.11.18)\n",
      "Requirement already satisfied: docstring-parser<1.0,>=0.16 in d:\\workspace\\repository\\lab\\venv\\lib\\site-packages (from instructor->swarm==0.1.0) (0.16)\n",
      "Requirement already satisfied: jinja2<4.0.0,>=3.1.4 in d:\\workspace\\repository\\lab\\venv\\lib\\site-packages (from instructor->swarm==0.1.0) (3.1.6)\n",
      "Requirement already satisfied: rich<14.0.0,>=13.7.0 in d:\\workspace\\repository\\lab\\venv\\lib\\site-packages (from instructor->swarm==0.1.0) (13.9.4)\n",
      "Requirement already satisfied: tenacity<10.0.0,>=9.0.0 in d:\\workspace\\repository\\lab\\venv\\lib\\site-packages (from instructor->swarm==0.1.0) (9.1.2)\n",
      "Requirement already satisfied: typer<1.0.0,>=0.9.0 in d:\\workspace\\repository\\lab\\venv\\lib\\site-packages (from instructor->swarm==0.1.0) (0.15.3)\n",
      "Requirement already satisfied: aiohappyeyeballs>=2.3.0 in d:\\workspace\\repository\\lab\\venv\\lib\\site-packages (from aiohttp<4.0.0,>=3.9.1->instructor->swarm==0.1.0) (2.6.1)\n",
      "Requirement already satisfied: aiosignal>=1.1.2 in d:\\workspace\\repository\\lab\\venv\\lib\\site-packages (from aiohttp<4.0.0,>=3.9.1->instructor->swarm==0.1.0) (1.3.2)\n",
      "Requirement already satisfied: attrs>=17.3.0 in d:\\workspace\\repository\\lab\\venv\\lib\\site-packages (from aiohttp<4.0.0,>=3.9.1->instructor->swarm==0.1.0) (25.3.0)\n",
      "Requirement already satisfied: frozenlist>=1.1.1 in d:\\workspace\\repository\\lab\\venv\\lib\\site-packages (from aiohttp<4.0.0,>=3.9.1->instructor->swarm==0.1.0) (1.6.0)\n",
      "Requirement already satisfied: multidict<7.0,>=4.5 in d:\\workspace\\repository\\lab\\venv\\lib\\site-packages (from aiohttp<4.0.0,>=3.9.1->instructor->swarm==0.1.0) (6.4.3)\n",
      "Requirement already satisfied: propcache>=0.2.0 in d:\\workspace\\repository\\lab\\venv\\lib\\site-packages (from aiohttp<4.0.0,>=3.9.1->instructor->swarm==0.1.0) (0.3.1)\n",
      "Requirement already satisfied: yarl<2.0,>=1.17.0 in d:\\workspace\\repository\\lab\\venv\\lib\\site-packages (from aiohttp<4.0.0,>=3.9.1->instructor->swarm==0.1.0) (1.20.0)\n",
      "Requirement already satisfied: MarkupSafe>=2.0 in d:\\workspace\\repository\\lab\\venv\\lib\\site-packages (from jinja2<4.0.0,>=3.1.4->instructor->swarm==0.1.0) (3.0.2)\n",
      "Requirement already satisfied: charset-normalizer<4,>=2 in d:\\workspace\\repository\\lab\\venv\\lib\\site-packages (from requests->swarm==0.1.0) (3.4.2)\n",
      "Requirement already satisfied: urllib3<3,>=1.21.1 in d:\\workspace\\repository\\lab\\venv\\lib\\site-packages (from requests->swarm==0.1.0) (2.4.0)\n",
      "Requirement already satisfied: markdown-it-py>=2.2.0 in d:\\workspace\\repository\\lab\\venv\\lib\\site-packages (from rich<14.0.0,>=13.7.0->instructor->swarm==0.1.0) (3.0.0)\n",
      "Requirement already satisfied: pygments<3.0.0,>=2.13.0 in d:\\workspace\\repository\\lab\\venv\\lib\\site-packages (from rich<14.0.0,>=13.7.0->instructor->swarm==0.1.0) (2.19.1)\n",
      "Requirement already satisfied: click>=8.0.0 in d:\\workspace\\repository\\lab\\venv\\lib\\site-packages (from typer<1.0.0,>=0.9.0->instructor->swarm==0.1.0) (8.2.0)\n",
      "Requirement already satisfied: shellingham>=1.3.0 in d:\\workspace\\repository\\lab\\venv\\lib\\site-packages (from typer<1.0.0,>=0.9.0->instructor->swarm==0.1.0) (1.5.4)\n",
      "Requirement already satisfied: mdurl~=0.1 in d:\\workspace\\repository\\lab\\venv\\lib\\site-packages (from markdown-it-py>=2.2.0->rich<14.0.0,>=13.7.0->instructor->swarm==0.1.0) (0.1.2)\n",
      "Requirement already satisfied: cfgv>=2.0.0 in d:\\workspace\\repository\\lab\\venv\\lib\\site-packages (from pre-commit->swarm==0.1.0) (3.4.0)\n",
      "Requirement already satisfied: identify>=1.0.0 in d:\\workspace\\repository\\lab\\venv\\lib\\site-packages (from pre-commit->swarm==0.1.0) (2.6.10)\n",
      "Requirement already satisfied: nodeenv>=0.11.1 in d:\\workspace\\repository\\lab\\venv\\lib\\site-packages (from pre-commit->swarm==0.1.0) (1.9.1)\n",
      "Requirement already satisfied: pyyaml>=5.1 in d:\\workspace\\repository\\lab\\venv\\lib\\site-packages (from pre-commit->swarm==0.1.0) (6.0.2)\n",
      "Requirement already satisfied: virtualenv>=20.10.0 in d:\\workspace\\repository\\lab\\venv\\lib\\site-packages (from pre-commit->swarm==0.1.0) (20.31.2)\n",
      "Requirement already satisfied: distlib<1,>=0.3.7 in d:\\workspace\\repository\\lab\\venv\\lib\\site-packages (from virtualenv>=20.10.0->pre-commit->swarm==0.1.0) (0.3.9)\n",
      "Requirement already satisfied: filelock<4,>=3.12.2 in d:\\workspace\\repository\\lab\\venv\\lib\\site-packages (from virtualenv>=20.10.0->pre-commit->swarm==0.1.0) (3.13.1)\n",
      "Requirement already satisfied: platformdirs<5,>=3.9.1 in d:\\workspace\\repository\\lab\\venv\\lib\\site-packages (from virtualenv>=20.10.0->pre-commit->swarm==0.1.0) (4.3.7)\n",
      "Requirement already satisfied: iniconfig in d:\\workspace\\repository\\lab\\venv\\lib\\site-packages (from pytest->swarm==0.1.0) (2.1.0)\n",
      "Requirement already satisfied: packaging in d:\\workspace\\repository\\lab\\venv\\lib\\site-packages (from pytest->swarm==0.1.0) (24.2)\n",
      "Requirement already satisfied: pluggy<2,>=1.5 in d:\\workspace\\repository\\lab\\venv\\lib\\site-packages (from pytest->swarm==0.1.0) (1.5.0)\n"
     ]
    },
    {
     "name": "stderr",
     "output_type": "stream",
     "text": [
      "  Running command git clone --filter=blob:none --quiet https://github.com/openai/swarm.git 'C:\\Users\\inkyu.choi\\AppData\\Local\\Temp\\pip-req-build-20tym88f'\n"
     ]
    },
    {
     "name": "stdout",
     "output_type": "stream",
     "text": [
      "Requirement already satisfied: pydantic in d:\\workspace\\repository\\lab\\venv\\lib\\site-packages (2.11.4)\n",
      "Requirement already satisfied: langchain in d:\\workspace\\repository\\lab\\venv\\lib\\site-packages (0.3.25)\n",
      "Collecting langgraph\n",
      "  Downloading langgraph-0.4.5-py3-none-any.whl.metadata (7.3 kB)\n",
      "Requirement already satisfied: annotated-types>=0.6.0 in d:\\workspace\\repository\\lab\\venv\\lib\\site-packages (from pydantic) (0.7.0)\n",
      "Requirement already satisfied: pydantic-core==2.33.2 in d:\\workspace\\repository\\lab\\venv\\lib\\site-packages (from pydantic) (2.33.2)\n",
      "Requirement already satisfied: typing-extensions>=4.12.2 in d:\\workspace\\repository\\lab\\venv\\lib\\site-packages (from pydantic) (4.13.2)\n",
      "Requirement already satisfied: typing-inspection>=0.4.0 in d:\\workspace\\repository\\lab\\venv\\lib\\site-packages (from pydantic) (0.4.0)\n",
      "Requirement already satisfied: langchain-core<1.0.0,>=0.3.58 in d:\\workspace\\repository\\lab\\venv\\lib\\site-packages (from langchain) (0.3.59)\n",
      "Requirement already satisfied: langchain-text-splitters<1.0.0,>=0.3.8 in d:\\workspace\\repository\\lab\\venv\\lib\\site-packages (from langchain) (0.3.8)\n",
      "Requirement already satisfied: langsmith<0.4,>=0.1.17 in d:\\workspace\\repository\\lab\\venv\\lib\\site-packages (from langchain) (0.3.42)\n",
      "Requirement already satisfied: SQLAlchemy<3,>=1.4 in d:\\workspace\\repository\\lab\\venv\\lib\\site-packages (from langchain) (2.0.40)\n",
      "Requirement already satisfied: requests<3,>=2 in d:\\workspace\\repository\\lab\\venv\\lib\\site-packages (from langchain) (2.32.3)\n",
      "Requirement already satisfied: PyYAML>=5.3 in d:\\workspace\\repository\\lab\\venv\\lib\\site-packages (from langchain) (6.0.2)\n",
      "Requirement already satisfied: tenacity!=8.4.0,<10.0.0,>=8.1.0 in d:\\workspace\\repository\\lab\\venv\\lib\\site-packages (from langchain-core<1.0.0,>=0.3.58->langchain) (9.1.2)\n",
      "Requirement already satisfied: jsonpatch<2.0,>=1.33 in d:\\workspace\\repository\\lab\\venv\\lib\\site-packages (from langchain-core<1.0.0,>=0.3.58->langchain) (1.33)\n",
      "Requirement already satisfied: packaging<25,>=23.2 in d:\\workspace\\repository\\lab\\venv\\lib\\site-packages (from langchain-core<1.0.0,>=0.3.58->langchain) (24.2)\n",
      "Requirement already satisfied: jsonpointer>=1.9 in d:\\workspace\\repository\\lab\\venv\\lib\\site-packages (from jsonpatch<2.0,>=1.33->langchain-core<1.0.0,>=0.3.58->langchain) (3.0.0)\n",
      "Requirement already satisfied: httpx<1,>=0.23.0 in d:\\workspace\\repository\\lab\\venv\\lib\\site-packages (from langsmith<0.4,>=0.1.17->langchain) (0.28.1)\n",
      "Requirement already satisfied: orjson<4.0.0,>=3.9.14 in d:\\workspace\\repository\\lab\\venv\\lib\\site-packages (from langsmith<0.4,>=0.1.17->langchain) (3.10.18)\n",
      "Requirement already satisfied: requests-toolbelt<2.0.0,>=1.0.0 in d:\\workspace\\repository\\lab\\venv\\lib\\site-packages (from langsmith<0.4,>=0.1.17->langchain) (1.0.0)\n",
      "Requirement already satisfied: zstandard<0.24.0,>=0.23.0 in d:\\workspace\\repository\\lab\\venv\\lib\\site-packages (from langsmith<0.4,>=0.1.17->langchain) (0.23.0)\n",
      "Requirement already satisfied: anyio in d:\\workspace\\repository\\lab\\venv\\lib\\site-packages (from httpx<1,>=0.23.0->langsmith<0.4,>=0.1.17->langchain) (4.9.0)\n",
      "Requirement already satisfied: certifi in d:\\workspace\\repository\\lab\\venv\\lib\\site-packages (from httpx<1,>=0.23.0->langsmith<0.4,>=0.1.17->langchain) (2025.4.26)\n",
      "Requirement already satisfied: httpcore==1.* in d:\\workspace\\repository\\lab\\venv\\lib\\site-packages (from httpx<1,>=0.23.0->langsmith<0.4,>=0.1.17->langchain) (1.0.9)\n",
      "Requirement already satisfied: idna in d:\\workspace\\repository\\lab\\venv\\lib\\site-packages (from httpx<1,>=0.23.0->langsmith<0.4,>=0.1.17->langchain) (3.10)\n",
      "Requirement already satisfied: h11>=0.16 in d:\\workspace\\repository\\lab\\venv\\lib\\site-packages (from httpcore==1.*->httpx<1,>=0.23.0->langsmith<0.4,>=0.1.17->langchain) (0.16.0)\n",
      "Requirement already satisfied: charset-normalizer<4,>=2 in d:\\workspace\\repository\\lab\\venv\\lib\\site-packages (from requests<3,>=2->langchain) (3.4.2)\n",
      "Requirement already satisfied: urllib3<3,>=1.21.1 in d:\\workspace\\repository\\lab\\venv\\lib\\site-packages (from requests<3,>=2->langchain) (2.4.0)\n",
      "Requirement already satisfied: greenlet>=1 in d:\\workspace\\repository\\lab\\venv\\lib\\site-packages (from SQLAlchemy<3,>=1.4->langchain) (3.2.1)\n",
      "Collecting langgraph-checkpoint<3.0.0,>=2.0.26 (from langgraph)\n",
      "  Downloading langgraph_checkpoint-2.0.26-py3-none-any.whl.metadata (4.6 kB)\n",
      "Collecting langgraph-prebuilt>=0.1.8 (from langgraph)\n",
      "  Using cached langgraph_prebuilt-0.1.8-py3-none-any.whl.metadata (5.0 kB)\n",
      "Collecting langgraph-sdk>=0.1.42 (from langgraph)\n",
      "  Downloading langgraph_sdk-0.1.69-py3-none-any.whl.metadata (1.8 kB)\n",
      "Collecting xxhash<4.0.0,>=3.5.0 (from langgraph)\n",
      "  Using cached xxhash-3.5.0-cp311-cp311-win_amd64.whl.metadata (13 kB)\n",
      "Collecting ormsgpack<2.0.0,>=1.8.0 (from langgraph-checkpoint<3.0.0,>=2.0.26->langgraph)\n",
      "  Using cached ormsgpack-1.9.1-cp311-cp311-win_amd64.whl.metadata (44 kB)\n",
      "Requirement already satisfied: sniffio>=1.1 in d:\\workspace\\repository\\lab\\venv\\lib\\site-packages (from anyio->httpx<1,>=0.23.0->langsmith<0.4,>=0.1.17->langchain) (1.3.1)\n",
      "Downloading langgraph-0.4.5-py3-none-any.whl (155 kB)\n",
      "Downloading langgraph_checkpoint-2.0.26-py3-none-any.whl (44 kB)\n",
      "Using cached ormsgpack-1.9.1-cp311-cp311-win_amd64.whl (125 kB)\n",
      "Using cached xxhash-3.5.0-cp311-cp311-win_amd64.whl (30 kB)\n",
      "Using cached langgraph_prebuilt-0.1.8-py3-none-any.whl (25 kB)\n",
      "Downloading langgraph_sdk-0.1.69-py3-none-any.whl (48 kB)\n",
      "Installing collected packages: xxhash, ormsgpack, langgraph-sdk, langgraph-checkpoint, langgraph-prebuilt, langgraph\n",
      "\n",
      "   -------------------- ------------------- 3/6 [langgraph-checkpoint]\n",
      "   --------------------------------- ------ 5/6 [langgraph]\n",
      "   ---------------------------------------- 6/6 [langgraph]\n",
      "\n",
      "Successfully installed langgraph-0.4.5 langgraph-checkpoint-2.0.26 langgraph-prebuilt-0.1.8 langgraph-sdk-0.1.69 ormsgpack-1.9.1 xxhash-3.5.0\n"
     ]
    }
   ],
   "execution_count": 100
  },
  {
   "metadata": {
    "ExecuteTime": {
     "end_time": "2025-05-18T09:42:17.165979Z",
     "start_time": "2025-05-18T09:42:16.654687Z"
    }
   },
   "cell_type": "code",
   "source": [
    "from typing import TypedDict, List, Dict, Literal\n",
    "from pydantic import BaseModel, Field\n",
    "from swarm import Swarm, Agent\n",
    "from langchain.output_parsers import PydanticOutputParser\n",
    "from langgraph.graph import StateGraph, START, END\n",
    "\n",
    "import random"
   ],
   "id": "44cba3556f54d700",
   "outputs": [],
   "execution_count": 101
  },
  {
   "metadata": {
    "ExecuteTime": {
     "end_time": "2025-05-18T07:06:37.884772Z",
     "start_time": "2025-05-18T07:06:37.623381Z"
    }
   },
   "cell_type": "code",
   "source": [
    "# 환경 변수 및 전역 변수 관리\n",
    "import os\n",
    "\n",
    "def load_api_keys(filepath):\n",
    "    with open(filepath, \"r\") as f:\n",
    "        for line in f:\n",
    "            line = line.strip()\n",
    "            if line and \"=\" in line:\n",
    "                key, value = line.split(\"=\", 1)\n",
    "                os.environ[key.strip()] = value.strip()\n",
    "\n",
    "filepath = '../.env'\n",
    "\n",
    "# API 키 로드 및 환경변수 설정\n",
    "load_api_keys(filepath)\n",
    "\n",
    "ollama_model = 'qwen3:latest'\n",
    "client = Swarm()"
   ],
   "id": "731b66d4e54292c3",
   "outputs": [],
   "execution_count": 2
  },
  {
   "metadata": {
    "ExecuteTime": {
     "end_time": "2025-05-18T09:51:01.460307Z",
     "start_time": "2025-05-18T09:51:01.436236Z"
    }
   },
   "cell_type": "code",
   "source": [
    "# 임시로 사용 할 이력서 데이터\n",
    "resume = \"\"\"<이력서>\n",
    "홍길동 (Gil-dong Hong)\n",
    "이메일: gildong.hong@example.com\n",
    "전화번호: 010-1234-5678\n",
    "학력\n",
    "- 한국대학교 전기정보공학부 학사 (2018.03 ~ 2022.02)\n",
    " GPA: 3.91 / 4.3, 전공과목: 머신러닝, 데이터마이닝, 신호처리\n",
    "경력\n",
    "- KT, AI 연구소 인턴 (2021.07 ~ 2021.12)\n",
    " • OCR 기반 문서 처리 시스템 고도화\n",
    " • Tesseract + 딥러닝 후처리 파이프라인 설계\n",
    " • 사내 법률문서 정제 정확도 12% 개선\n",
    "- 빅데이터 학생연합 (BDSA) 기술부장 (2020.03 ~ 2021.02)\n",
    " • Python 기반 크롤러 및 Flask API 개발\n",
    " • 공공데이터 기반 부동산 가격 예측 프로젝트 리드\n",
    "프로젝트\n",
    "- AI 면접관 시스템 개발 (졸업 과제)\n",
    " • OpenAI GPT + Streamlit + FAISS 기반 질문-응답 시스템 구현\n",
    " • 이력서 기반 질문 자동 생성 + 답변 피드백 제공\n",
    "- 딥러닝 기반 교통량 예측 (교과목 프로젝트)\n",
    " • LSTM 기반 모델 + 서울시 교통데이터\n",
    " • MAE 15% 이하로 개선\n",
    "기술 스택\n",
    "- Python, PyTorch, TensorFlow, OpenCV\n",
    "- MySQL, MongoDB, Git, Docker\n",
    "- 영어 (TOEIC 915, 영어면접 가능)\n",
    "수상 및 자격\n",
    "- SKT Big Data Challenge 2021 장려상\n",
    "- 정보처리기사 (2022.05 취득)\n",
    "기타\n",
    "- Github: github.com/gildong-ai\n",
    "- 블로그: blog.naver.com/gildong_dev\n",
    "<자기소개서>\n",
    "1. 본인 성격의 강/약점에 대해서 실제 사례를 포함하여 작성해 주세요.\n",
    "무엇인가 한번 빠져들면 해결하거나 성취할 때까지 모든 열정/노력을 쏟아붓는 성격으로, 그 과정에서 큰 어려움이 발생하더라도 포기하지 않고 가능한 방법들을 찾아 해결하는 편입니다.\n",
    "특히 프로그래밍에 있어서는 공식적으로 제공되는 레퍼런스 문서를 보는것을 좋아하며, 이런 과정을 통해 새로운 지식을 습득하는 것에 보람을 느끼고 있습니다.\n",
    "물론 문제가 발생하는 상황을 좋아하지 않기 때문에, 문제와 관련된 내용을 다루는 문서 아티클이 존재하지 않거나 제시된 대로 따랐을 때 문제가 해결되지 않는다면 답답함을 느끼거나 가벼운 스트레스 받는다는 것이 단점이기는 하지만,\n",
    "개인적으로 좋아하는 커피를 마시거나 간단한 독서를 통해 기분 전환하여 해결하는 편이며, 주어진 문제 상황을 어떻게든 해결함으로써 문제로 인해 받았던 스트레스를 해소함과 동시에 성취감을 느끼는 것 같습니다.\n",
    "해결했다는 성취감은 다시 개발에 빠져들게 되는 원동력이 되어 긍정적인 선순환이 이루어지는 것 같습니다.\n",
    "개발 과정에서 알 수 없는 버그가 발생하였을 때 불가피한 경우 문제가 예상되는 부분에 Break point를 찍고 라인 단위로 프로그램을 실행해 메모리 상의 비트 단위까지 추적했던 경험도 가지고 있으며,\n",
    "프로젝트 서버 배포 과정에서 로컬에서는 발생하지 않았던 문제가 발생하였을 때 에러 로그에 관련된 문서를 모두 확인하여 배포했던 경험도 가지고 있습니다.\n",
    "\n",
    "2. 본인이 회사를 선택하는 기준을 바탕으로 우리 회사를 선택한 이유를 작성해 주세요.\n",
    "회사가 안정적이고 어느 정도 큰 규모라는 것이 회사를 선택하는 데 있어 가장 중요한 부분이라고 생각합니다.\n",
    "물론 규모가 작은 스타트업도 배울 점은 많고 좋은 회사들이 많이 있지만, 일반적으로 큰 규모를 가지고 오랜 기간 운영된 회사가 내부적으로 쌓아온 인프라도 존재하고 문제 상황이 발생하였을 때\n",
    "도움을 구할 수 있는 주변 동료들이 많이 존재하여 회사를 선택하는 데 있어서 어느 정도 큰 규모라는 것이 중요하다 생각합니다.\n",
    "또한 회사가 시장 상황을 비롯해 외부 환경적인 요소로 사이클을 타거나 불안정적인 구조를 가지고 있는 것보다는, 안정적인 내부 서비스가 존재하여 일정한 매출/수익을 거둘 수 있어 각 구성원은 아무 걱정 없이 맡은 바 소임 다해\n",
    "회사에 기여하는 것 역시 개인적으로 중요하다 생각합니다.\n",
    "KK기술은 안정적인 키움증권을 운영하는 규모 있는 벤처 기업으로 IT에 뿌리하고 있기 때문에 개발자 친화적이고 사내에서 동료 간의 배울 수 있는 부분이 많을 것이라 생각되며, 출퇴근 시간을 유동적으로 사용할 수 있는 유연근무제를 지원하여,\n",
    "출퇴근에 무의미하게 낭비하는 시간을 줄이고 개인 개발 시간을 확보할 수 있을 것 같아 입사하고 싶은 기업입니다.\n",
    "또한 교육에 대한 지원이 있어 개인적으로 크게 성장할 수 있는 환경이라 생각되며, 트리플 모니터를 사용함으로써 순수하게 개발에 집중할 수 있는 환경이라 생각되어 KK기술에 꼭 입사하고 싶습니다.\n",
    "\n",
    "3. 해당 직무에 지원하신 이유, 본인이 적합하다고 판단하는 근거, 관련 산출물 등을 작성해 주세요. (프로젝트, 포트폴리오, github/블로그 URL 등이 있다면 간단한 설명과 함께 작성)\n",
    "키움 증권을 비롯한 KK기술의 금융 계열사의 서비스 개발에 직접 참여할 수 있고, 많은 사용자가 존재하는 환경 속에서 운영해 볼 수 있다는 부분이 지원에 대한 가장 큰 동기인 것 같습니다.\n",
    "OOOOO 교육과정 이전에는 이론적인 내용만 습득하였어서 실무에 대한 이해와 경험이 부족한데 사용자가 많은 환경에서 직접 개발과 운영에 참여하면 경험적인 부분이 크게 성장할 것 같습니다.\n",
    "비록 그동안의 프로젝트 경험이 부족해서 직무에 대한 적합성을 직접적으로 보여드릴 수 없어 아쉽지만, 실제 실무에 대해 배워나가는 OOOOO 과정에서 코딩 집중과정 종합성적 서울 9반 1등 성적 우수상을 받고,\n",
    "현재 OOOOO 내에서 진행 중인 프로젝트에서 Jira를 활용한 협업과, Jenkins를 이용한 배포를 진행하고 있어 실제 KK기술에 입사하였을 때 프로젝트를 진행하는 데 있어서 문제가 없다 자신 있게 말씀드릴 수 있습니다.\n",
    "또한 알고리즘 공부를 시작한 이후에 꾸준히 약 200일간 매일 알고리즘 문제를 풀어 오고 있으며 알고리즘 학습 내용을 바탕으로 OOOO에서 주관하는 OO 상시 SW 역량 테스트에 응시하여 B형(Pro) 등급을 취득하였습니다.\n",
    "개발자로써 항상 새로운 것을 배우고 적용해나가야 한다 생각하는 편이며, 언어에 대한 이해와 더 좋은 코드를 작성할 수 있도록 Effective Java를 읽고 항상 코딩하는 과정에서 생각하고 적용하려 노력하고 있으며,\n",
    "현재 알고 있는 지식에 안주하지 않기 위해 현재 알고 있는 SQL Mapper(MyBatis) 외에 ORM(JPA Hibernate)를 학습하고 있고, Spring In Action을 구매하여 스프링에 대해 심도 있게 학습하려 준비하고 있습니다.\n",
    "\n",
    "4. 본인이 지원한 직무에서 입사 후 어떠한 업무를 하고 싶은지 작성해 주세요.\n",
    "무엇이든 저에게 주어진 일이라면 큰 책임감을 느끼고 할 수 있는 모든 노력을 쏟는 편이고, 개발에 있어서 대부분을 재미있어하는 편입니다.\n",
    "다만 실제 사용자에게 보이고 UI/UX 작업을 하는 프론트엔드 분야에 대해서는 일이 맡겨진다면 주어진 일을 끝낼 자신은 있지만 프론트엔드에 대한 흥미는 낮아서 프론트엔드 분야를 제외한 업무를 제외한 업무를 하고 싶습니다.\n",
    "스프링을 이용한 서버 프로그램 개발이나, 리눅스 서버를 이용한 서비스 배포 모두 저에겐 흥미로운 주제이며, KK기술에 입사하게 된다면 서버에 관련된 업무에 배정되고 싶습니다.\n",
    "OOOOO에서 협업 특강에서 코드 리뷰에 대해 접할 수 있던 기회가 있었는데 협업에서 코드 리뷰의 중요성을 깨달을 수 있던 기회였고, 실무에서 기회가 된다면 활발하게 코드 리뷰 할 수 있는 기회도 존재하면 좋을 것 같습니다.\n",
    "금융을 제외하더라도 전반적인 IT 산업에서 보안적인 요소를 고려하는 중요하지만, KK기술의 금융 직무에서는 고객의 민감정보를 다루고 무결성을 보장해야만 하기 때문에 피어리뷰의 중요도가 높다고 생각됩니다.\n",
    "개인적으로 희망하고 있는 스프링 서버 개발을 진행하며, 동료들과 보안적인 관점과 효율적인 구현/알고리즘에 대한 고민을 코드 리뷰로써 활발하게 할 수 있는 부서/직무를 할 수 있다면 가장 좋은 여건이 될 것 같습니다.\n",
    "\"\"\"\n",
    "common_prompt = \"출력 시 반드시 한국어만 사용해야 하며 한자는 포함하면 안돼.\""
   ],
   "id": "909a60fe68fc6eb2",
   "outputs": [],
   "execution_count": 105
  },
  {
   "metadata": {
    "ExecuteTime": {
     "end_time": "2025-05-18T07:06:57.788031Z",
     "start_time": "2025-05-18T07:06:57.783723Z"
    }
   },
   "cell_type": "code",
   "source": [
    "def get_result(raw_message: str) -> str:\n",
    "    split_message = raw_message.split('\\n</think>')\n",
    "    return split_message[-1].strip()"
   ],
   "id": "14bb6bf63bab4af6",
   "outputs": [],
   "execution_count": 4
  },
  {
   "metadata": {},
   "cell_type": "markdown",
   "source": "## 전처리",
   "id": "70ac62789a57b45d"
  },
  {
   "metadata": {
    "ExecuteTime": {
     "end_time": "2025-05-18T07:14:04.002464Z",
     "start_time": "2025-05-18T07:14:03.991434Z"
    }
   },
   "cell_type": "code",
   "source": [
    "# state type 선언\n",
    "class InterviewState(TypedDict):\n",
    "    # 고정 정보\n",
    "    resume_text: str\n",
    "    resume_summary: str\n",
    "    resume_keywords: List[str]\n",
    "    question_strategy: Dict[str, Dict]\n",
    "\n",
    "    # 인터뷰 로그\n",
    "    current_question: str\n",
    "    current_answer: str\n",
    "    current_strategy: str\n",
    "    conversation: List[Dict[str, str]]\n",
    "    evaluation :Dict[str, str]\n",
    "    evaluate_reflect_count: int\n",
    "    next_step : str\n",
    "\n",
    "    # 결과\n",
    "    total_feedback: str"
   ],
   "id": "2ff816f60e4a80a5",
   "outputs": [],
   "execution_count": 9
  },
  {
   "metadata": {},
   "cell_type": "markdown",
   "source": "### 이력서 분석",
   "id": "1c02222d1d45dd16"
  },
  {
   "metadata": {
    "ExecuteTime": {
     "end_time": "2025-05-18T07:14:08.150004Z",
     "start_time": "2025-05-18T07:14:08.139279Z"
    }
   },
   "cell_type": "code",
   "source": [
    "class ResumeInfo(BaseModel):\n",
    "    summary: str = Field(..., description=\"이력서 데이터의 중요한 부분을 요약합니다.\")\n",
    "    keywords: List[str] = Field(..., description=\"이력서 데이터의 중요한 키워드를 뽑아냅니다.\")"
   ],
   "id": "57777a1497c4009b",
   "outputs": [],
   "execution_count": 10
  },
  {
   "metadata": {
    "ExecuteTime": {
     "end_time": "2025-05-18T09:09:07.305958Z",
     "start_time": "2025-05-18T09:09:07.295224Z"
    }
   },
   "cell_type": "code",
   "source": [
    "def analyze_resume(state: InterviewState) -> InterviewState:\n",
    "    parser = PydanticOutputParser(pydantic_object=ResumeInfo)\n",
    "\n",
    "    interviewer_agent = Agent(\n",
    "        name=\"Resume Analysis\",\n",
    "        instructions=\"\"\"너는 유능한 인재를 선발하는 기업의 면접관이야.\n",
    "        다음 주어지는 이력서 데이터를 이력서의 핵심 키워드와 요약본을 통해 지원자에게 질문을 할거야.\n",
    "        이를 염두해서 다음과 같은 분석을 수행해줘:\n",
    "\n",
    "        1. 핵심 키워드 추출 : 지원자의 이력서와 자기소개서에서 질문을 위한 핵심 키워드를 쉼표로 구분해서 추출해줘.\n",
    "        2. 전체 이력서 요약 : 추출한 핵심 키워드를 바탕으로 지원자의 이력서와 자기소개서를 요약해줘.\n",
    "\n",
    "        응답 예시는 아래와 같아:\n",
    "        {\n",
    "            \"summary\": \"지원자는 전기전자공학을 전공하고, AI 영상처리 프로젝트와 관련된 다양한 경험을 보유하고 있다...\",\n",
    "            \"keywords\": [\"딥러닝\", \"OpenCV\", \"연합동아리\", \"인턴십\", \"캡스톤디자인\"],\n",
    "        }\n",
    "        \"\"\" + common_prompt,\n",
    "        model=ollama_model,\n",
    "    )\n",
    "\n",
    "    response = client.run(\n",
    "        agent=interviewer_agent,\n",
    "        messages=[\n",
    "            { \"role\": \"user\", \"content\": state[\"resume_text\"] },\n",
    "            { \"role\": \"system\", \"content\": parser.get_format_instructions() }\n",
    "        ])\n",
    "\n",
    "    result = get_result(response.messages[-1]['content'])\n",
    "    resume_info = parser.parse(result)\n",
    "\n",
    "    return {\n",
    "        **state,\n",
    "        \"resume_keywords\": resume_info.keywords,\n",
    "        \"resume_summary\": resume_info.summary,\n",
    "    }"
   ],
   "id": "3b07cd7714ca935c",
   "outputs": [],
   "execution_count": 68
  },
  {
   "metadata": {},
   "cell_type": "markdown",
   "source": "### 질문전략 수립",
   "id": "ad36fcaf67eeaf9d"
  },
  {
   "metadata": {
    "ExecuteTime": {
     "end_time": "2025-05-18T07:14:12.473549Z",
     "start_time": "2025-05-18T07:14:12.466552Z"
    }
   },
   "cell_type": "code",
   "source": [
    "class Strategy(BaseModel):\n",
    "    questions: Dict[str, Dict] = Field(..., description=\"분야에 따른 질문 전략과 예시로 사용할 질문\")"
   ],
   "id": "9db21822b8f76e49",
   "outputs": [],
   "execution_count": 12
  },
  {
   "metadata": {
    "ExecuteTime": {
     "end_time": "2025-05-18T09:09:18.321860Z",
     "start_time": "2025-05-18T09:09:18.302121Z"
    }
   },
   "cell_type": "code",
   "source": [
    "def generate_question_strategy(state: InterviewState) -> InterviewState:\n",
    "    parser = PydanticOutputParser(pydantic_object=Strategy)\n",
    "\n",
    "    pre_interview_questions_agent = Agent(\n",
    "        name=\"Pre-Interview Questions Generator\",\n",
    "        instructions=\"\"\"너는 유능한 인재를 선발하는 기업의 면접관이야.\n",
    "        다음 주어지는 이력서&자기소개서 요약과 주요 키워드, 키워드 중요도를 바탕으로 면접자에게 질문을 해야 해.\n",
    "\n",
    "        이러한 점을 주의하여 다음 3가지 분야에 대해 질문 방향과 예시 질문을 만들어줘.\n",
    "\n",
    "        3가지 분야는 다음과 같아.\n",
    "        1. 경력 및 경험\n",
    "        2. 동기 및 커뮤니케이션\n",
    "        3. 논리적 사고.\n",
    "\n",
    "        응답에 대한 예시는 다음과 같아.\n",
    "        {\n",
    "            \"경력 및 경험\": {\n",
    "                \"질문 방향\": \"지원자의 전기정보 공학 배경과 관련된 실무 경험을 파악하고, 그에 따른 직무 적합성을 평가 할 수 있는 질문들.\",\n",
    "                \"예시 질문\": [\n",
    "                    \"전기정보공학을 전공하며 습득한 지식이 머신러닝 및 데이터 마이닝 프로젝트에 어떻게 활용되었는지 구체적으로 설명해 주실 수 있나요?\",\n",
    "                    \"빅데이터 학생연합에서 기술부장으로 활동하면서 겪은 도전과 이를 통해 배운 점은 무엇인가요?\"\n",
    "                ]\n",
    "            }\n",
    "        }\n",
    "\n",
    "        위 예시를 보고 포맷에 맞춰 응답해줘.\n",
    "        \"\"\" + common_prompt,\n",
    "        model=ollama_model,\n",
    "    )\n",
    "\n",
    "    response = client.run(\n",
    "        agent=pre_interview_questions_agent,\n",
    "        messages=[{ \"role\": \"user\", \"content\": f\"이력서 요약: {state['resume_summary']}, 이력서 키워드: {state['resume_keywords']}\" },\n",
    "                  { \"role\": \"system\", \"content\": parser.get_format_instructions() }\n",
    "                  ])\n",
    "\n",
    "    result = get_result(response.messages[-1]['content'])\n",
    "    strategy = parser.parse(result)\n",
    "\n",
    "    return {\n",
    "        **state,\n",
    "        \"question_strategy\": strategy.questions,\n",
    "    }\n"
   ],
   "id": "7fe1791535d0e6d0",
   "outputs": [],
   "execution_count": 70
  },
  {
   "metadata": {},
   "cell_type": "markdown",
   "source": "### 전처리 코드 병합",
   "id": "dbd05cc1c07b0d81"
  },
  {
   "metadata": {
    "ExecuteTime": {
     "end_time": "2025-05-18T07:14:23.747839Z",
     "start_time": "2025-05-18T07:14:23.738180Z"
    }
   },
   "cell_type": "code",
   "source": [
    "def select_random_question_with_category(question_strategy: Dict[str, Dict]):\n",
    "    all_example_questions=[]\n",
    "\n",
    "    for category, strategy in question_strategy.items():\n",
    "        questions = strategy.get(\"예시 질문\", [])\n",
    "        for question in questions:\n",
    "            all_example_questions.append((category, question))  # (카테고리, 질문)\n",
    "\n",
    "    return random.choice(all_example_questions) if all_example_questions else (None, None)\n",
    "\n",
    "def pre_processing_interview(resume_text: str) -> InterviewState:\n",
    "    state: InterviewState = {\n",
    "        \"resume_text\": resume_text,\n",
    "        \"resume_summary\": \"\",\n",
    "        \"resume_keywords\": [],\n",
    "        \"question_strategy\": {},\n",
    "\n",
    "        \"current_question\": \"\",\n",
    "        \"current_answer\": \"\",\n",
    "        \"current_strategy\": \"\",\n",
    "        \"conversation\": [],\n",
    "        \"evaluation\": {},\n",
    "        \"evaluate_reflect_count\": 0,\n",
    "        \"next_step\": \"\",\n",
    "\n",
    "        \"total_feedback\": \"\",\n",
    "    }\n",
    "\n",
    "    state = analyze_resume(state)\n",
    "    state = generate_question_strategy(state)\n",
    "\n",
    "    current_strategy, selected_question = select_random_question_with_category(state['question_strategy'])\n",
    "\n",
    "    # return 코드는 제공합니다.\n",
    "    return {\n",
    "        **state,\n",
    "        \"current_question\": selected_question,\n",
    "        \"current_strategy\": current_strategy,\n",
    "    }"
   ],
   "id": "38b52a110503777e",
   "outputs": [],
   "execution_count": 14
  },
  {
   "metadata": {},
   "cell_type": "markdown",
   "source": "## 고도화",
   "id": "8fc252fe7d549c09"
  },
  {
   "metadata": {},
   "cell_type": "markdown",
   "source": "### 답변 입력",
   "id": "ec4576d326f885e5"
  },
  {
   "metadata": {
    "ExecuteTime": {
     "end_time": "2025-05-18T07:16:09.189664Z",
     "start_time": "2025-05-18T07:16:09.185957Z"
    }
   },
   "cell_type": "code",
   "source": [
    "def update_current_answer(state: InterviewState, user_answer: str) -> InterviewState:\n",
    "    return {\n",
    "        **state,\n",
    "        \"current_answer\": user_answer.strip()\n",
    "    }"
   ],
   "id": "8c6c6897a07cd095",
   "outputs": [],
   "execution_count": 16
  },
  {
   "metadata": {},
   "cell_type": "markdown",
   "source": "### 평가",
   "id": "cf2fb1f23821c1ee"
  },
  {
   "metadata": {
    "ExecuteTime": {
     "end_time": "2025-05-18T07:56:24.918738Z",
     "start_time": "2025-05-18T07:56:24.904880Z"
    }
   },
   "cell_type": "code",
   "source": [
    "class Evaluation(BaseModel):\n",
    "    content: Dict[str, str] = Field(..., description=\"다음과 같은 속성이 구성 되어있음. '분야', '질문', '답변', '질문과의 관련성', '답변의 구체성', '평가종합', '평가에 대한 이유'\")"
   ],
   "id": "caad4bc7278dafd0",
   "outputs": [],
   "execution_count": 32
  },
  {
   "metadata": {
    "ExecuteTime": {
     "end_time": "2025-05-18T09:09:31.895978Z",
     "start_time": "2025-05-18T09:09:31.873852Z"
    }
   },
   "cell_type": "code",
   "source": [
    "def evaluate_answer(state: InterviewState) -> InterviewState:\n",
    "    parser = PydanticOutputParser(pydantic_object=Evaluation)\n",
    "\n",
    "    interviewer_agent = Agent(\n",
    "        name=\"Interviewer\",\n",
    "        instructions=\"\"\"너는 기업의 면접관이야.\n",
    "        다음 주어지는 질문과 질문에대한 관련 분야와 그에 대한 답변에 평가를 해줘.\n",
    "\n",
    "        평가의 기준은 다음과 같아.\n",
    "        1. 질문과의 관련성\n",
    "            상: 질문의 핵심 의도에 정확히 부합하며, 전반적인 내용을 명확히 다룸.\n",
    "            중: 질문과 관련은 있지만 핵심 포인트가 부분적으로 누락됨.\n",
    "            하: 질문과 관련이 약하거나 엉뚱한 내용중심.\n",
    "        2. 답변의 구체성\n",
    "            상: 질문에 대한 답변이 대부분 구체적으로 다루어짐.\n",
    "            중: 질문에 대한 답변이 일부 구체적이나 핵심적인 구체성이 떨어짐.\n",
    "            하: 질문에 대한 답변이 대부분 구체적이지 못함.\n",
    "\n",
    "        응답에 대한 예시는 다음과 같아.\n",
    "        {\n",
    "            \"분야\": \"경력 및 경험\",\n",
    "            \"질문\": \"전기정보공학을 전공하며 습득한 지식이 머신러닝 및 데이터 마이닝 프로젝트에 어떻게 활용되었는지 구체적으로 설명해 주실 수 있나요?\",\n",
    "            \"답변\": \"잘 모르겠습니다\",\n",
    "            \"질문과의 관련성\": \"하\",\n",
    "            \"답변의 구체성\": \"하\",\n",
    "            \"평가종합\": \"하\",\n",
    "            \"평가에 대한 이유\": \"지원자의 답변은 질문의 핵심 의도인 전공 지식의 실무 적용 사례와 전혀 연결되지 않았으며, 내용 또한 단편적이고 구체적인 예시나 설명이 부족해 질문에 대한 명확한 이해와 준비가 부족한 것으로 판단됨.\"\n",
    "        }\n",
    "        위 예시를 보고 포맷에 맞춰 응답해줘. 특히 평가에 대한 이유 부분은 질문에 대한 답변이 어느 부분에서 어떻게 부족했는지 300자 내외로 상세히 작성해줘.\n",
    "        \"\"\" + common_prompt,\n",
    "        model=ollama_model,\n",
    "    )\n",
    "\n",
    "    response = client.run(\n",
    "        agent=interviewer_agent,\n",
    "        messages=[{ \"role\": \"user\", \"content\": f\"분야: {state['current_strategy']}, 질문: {state['current_question']}, 답변: {state['current_answer']}\" },\n",
    "                  { \"role\": \"system\", \"content\": parser.get_format_instructions() }\n",
    "                  ])\n",
    "\n",
    "    result = get_result(response.messages[-1]['content'])\n",
    "    evaluation = parser.parse(result).content\n",
    "\n",
    "    if len(state[\"conversation\"]) > 0:\n",
    "        prev_evaluation = state[\"conversation\"][-1]\n",
    "\n",
    "        if evaluation[\"질문\"] == prev_evaluation[\"질문\"] and evaluation[\"답변\"] == prev_evaluation[\"답변\"]:\n",
    "            state[\"conversation\"].pop()\n",
    "            state['evaluate_reflect_count'] += 1\n",
    "        else:\n",
    "            state['evaluate_reflect_count'] = 0\n",
    "\n",
    "    state[\"conversation\"].append(evaluation)\n",
    "\n",
    "    return {\n",
    "        **state,\n",
    "        \"evaluation\": evaluation\n",
    "    }\n"
   ],
   "id": "a68b1a0526b3e151",
   "outputs": [],
   "execution_count": 71
  },
  {
   "metadata": {
    "ExecuteTime": {
     "end_time": "2025-05-18T08:11:57.002572Z",
     "start_time": "2025-05-18T08:11:56.982998Z"
    }
   },
   "cell_type": "code",
   "outputs": [],
   "execution_count": 51,
   "source": [
    "class Reflect(BaseModel):\n",
    "    result: str = Field(..., description=\"'정상' 혹은 '재평가 필요'\")\n",
    "    reason: str = Field(..., description=\"평가 검증에 대한 이유.\")"
   ],
   "id": "77dadd89b6cb8e31"
  },
  {
   "metadata": {
    "ExecuteTime": {
     "end_time": "2025-05-18T09:09:38.987783Z",
     "start_time": "2025-05-18T09:09:38.970193Z"
    }
   },
   "cell_type": "code",
   "source": [
    "def reflect_evaluation(state: InterviewState, verbose = False) -> Literal[\"decide_next_step\", \"evaluate_answer\"]:\n",
    "    if state['evaluate_reflect_count'] > 2:\n",
    "        state['evaluate_reflect_count'] = 0\n",
    "        return \"decide_next_step\"\n",
    "\n",
    "    parser = PydanticOutputParser(pydantic_object=Reflect)\n",
    "\n",
    "    evaluation_verification_agent = Agent(\n",
    "        name=\"Evaluation Verification\",\n",
    "        instructions=\"\"\"너는 기업 면접의 평가 보조 시스템이야.\n",
    "        다음은 면접 질문, 지원자의 답변, 그리고 그것에 대한 평가와 평가에 대한 이유야.\n",
    "\n",
    "        이 평가가 적절한지 판단해줘. 만약 평가가 적절하지 않다면 '재평가 필요'를 반환하고, 적절하면 '정상'을 반환해.\n",
    "        그리고 반환한 결과에 대해 이유를 납득할 수 있게 작성해줘.\n",
    "\n",
    "        판단 기준:\n",
    "        - 평가가 질문과 답변의 내용을 제대로 반영했는가?\n",
    "        - 평가가 너무 과하거나 부족하지 않은가?\n",
    "\n",
    "        출력에 대한 포맷 예시:\n",
    "        {\n",
    "            result: \"정상\",\n",
    "            reason: \"질문과 답변, 평가를 고려하였을 때 적절한 평가라고 판단됨.\"\n",
    "        }\n",
    "        \"\"\" + common_prompt,\n",
    "        model=ollama_model,\n",
    "    )\n",
    "\n",
    "    evaluation = state[\"evaluation\"]\n",
    "\n",
    "    response = client.run(\n",
    "        agent=evaluation_verification_agent,\n",
    "        messages=[{ \"role\": \"user\", \"content\": f\"질문: {state['current_question']}\\n답변: {state['current_answer']}\\n평가: {evaluation['평가종합']}\\n평가이유: {evaluation['평가에 대한 이유']}\" },\n",
    "                  { \"role\": \"system\", \"content\": parser.get_format_instructions() }\n",
    "                  ])\n",
    "\n",
    "    result = get_result(response.messages[-1]['content'])\n",
    "    reflect = parser.parse(result)\n",
    "\n",
    "    if verbose:\n",
    "        print('result:', reflect.result)\n",
    "        print('reflect reason:', reflect.reason)\n",
    "\n",
    "    return \"decide_next_step\" if reflect.result == \"정상\" else \"evaluate_answer\""
   ],
   "id": "a1c24894ebf70a0e",
   "outputs": [],
   "execution_count": 72
  },
  {
   "metadata": {},
   "cell_type": "markdown",
   "source": "### 인터뷰 진행 검토",
   "id": "f0367b78246ed400"
  },
  {
   "metadata": {
    "ExecuteTime": {
     "end_time": "2025-05-18T08:21:22.719681Z",
     "start_time": "2025-05-18T08:21:22.701796Z"
    }
   },
   "cell_type": "code",
   "source": [
    "def decide_next_step(state: InterviewState) -> InterviewState:\n",
    "    next_step = state[\"next_step\"]\n",
    "\n",
    "    if len(state[\"conversation\"]) >= 5:\n",
    "        next_step = \"end\"\n",
    "    else:\n",
    "        last_eval = state[\"conversation\"][-1] if state[\"conversation\"] else {}\n",
    "\n",
    "        relevance = last_eval.get(\"질문과의 관련성\", \"하\")\n",
    "        specificity = last_eval.get(\"답변의 구체성\", \"하\")\n",
    "\n",
    "        if relevance in [\"중\", \"상\"] and specificity in [\"중\", \"상\"]:\n",
    "            next_step = \"next_strategy\"\n",
    "        else:\n",
    "            next_step = \"additional_question\"\n",
    "\n",
    "    return {\n",
    "        **state,\n",
    "        \"next_step\": next_step\n",
    "    }\n"
   ],
   "id": "49ff8ee70ef981b9",
   "outputs": [],
   "execution_count": 54
  },
  {
   "metadata": {},
   "cell_type": "markdown",
   "source": "### 질문 생성",
   "id": "8f22774a40c4864a"
  },
  {
   "metadata": {
    "ExecuteTime": {
     "end_time": "2025-05-18T09:04:21.914324Z",
     "start_time": "2025-05-18T09:04:21.897925Z"
    }
   },
   "cell_type": "code",
   "source": [
    "class Question(BaseModel):\n",
    "    strategy: str = Field(..., description=\"질문에 대한 분야. '경력 및 경험', '동기 및 커뮤니케이션', '논리적 사고' 중 하나.\")\n",
    "    content: str = Field(..., description=\"새로 생성 된 질문.\")"
   ],
   "id": "13d5b809be6b81aa",
   "outputs": [],
   "execution_count": 63
  },
  {
   "metadata": {
    "ExecuteTime": {
     "end_time": "2025-05-18T09:15:26.978976Z",
     "start_time": "2025-05-18T09:15:26.951833Z"
    }
   },
   "cell_type": "code",
   "source": [
    "def generate_question(state: InterviewState) -> InterviewState:\n",
    "    next_step = state['next_step']\n",
    "    current_strategy = state['current_strategy']\n",
    "\n",
    "    question_strategy = '\\n'.join([\n",
    "        f\"\"\"\n",
    "        {x}:\n",
    "            - 질문 방향: {state['question_strategy'][x]['질문 방향']}\n",
    "            - 예시 질문: {\", \".join(state['question_strategy'][x]['예시 질문'])}\n",
    "        \"\"\"\n",
    "        for x in ['경력 및 경험', '동기 및 커뮤니케이션', '논리적 사고']\n",
    "    ])\n",
    "\n",
    "    conversation = '\\n\\n'.join([\n",
    "        f\"\"\"분야: {x['분야']},\n",
    "        질문: {x['질문']}\n",
    "        답변: {x['답변']}\n",
    "        질문과의 관련성: {x['질문과의 관련성']}\n",
    "        답변의 구체성: {x['답변의 구체성']},\n",
    "        평가종합: {x['평가종합']},\n",
    "        평가에 대한 이유: {x['평가에 대한 이유']}\n",
    "        \"\"\"\n",
    "        for x in state[\"conversation\"]\n",
    "    ])\n",
    "\n",
    "    strategy_covered = set(turn.get(\"분야\") for turn in state[\"conversation\"])\n",
    "    all_strategies = {\"경력 및 경험\", \"동기 및 커뮤니케이션\", \"논리적 사고\"}\n",
    "\n",
    "    prompt_text = \"\"\n",
    "\n",
    "    if next_step == \"next_strategy\":\n",
    "        prompt_text = f\"\"\"지원자의 '{strategy_covered ^ all_strategies if all_strategies ^ all_strategies else all_strategies}' 분야에 대한 새로운 질문을 생성해줘.\n",
    "        이때 '{state['resume_keywords']}' 중 해당 분야와 관련이 있는 키워드가 있다면 해당 키워드를 활용해 질문이 만들어줘.\n",
    "        이전 질문과 중복되지 않으면서 지원자의 역량을 효과적으로 평가할 수 있는 질문이어야 해.\n",
    "        유사 질문 예시는 그대로 쓰지 말고, 참고만 해서 새로운 질문을 만들어줘.\"\"\"\n",
    "    else:\n",
    "        prompt_text = f\"\"\"지원자의 가장 최근 답변 '{state['current_answer']}'에 대한 동일한 분야인 '{current_strategy}' 새로운 질문을 생성해줘.\n",
    "        지원자가 언급한 내용에 대해 더 깊이 있는 설명이나 구체적인 사례를 요구하는 질문이어야 해.\n",
    "        지원자의 이전 질문에 대한 평가가 좋지 못하다면, 같은 주제를 다른 각도에서 접근하는 질문을 생성해줘.\"\"\"\n",
    "\n",
    "    question_create_agent = Agent(\n",
    "        name=\"Evaluation Verification\",\n",
    "        instructions=f\"\"\"다음 주어지는 면접자의 이력서 요약, 키워드, 질문전략, 이전 질문과 답변, 평가를 기반으로 {prompt_text}\n",
    "\n",
    "        출력 예시 포맷:\n",
    "        {{\n",
    "            strategy: \"경력 및 경험\",\n",
    "            content: \"딥러닝 모델을 활용한 프로젝트에서 데이터 전처리 과정에서 발생한 문제를 어떻게 분석하고 해결하였는지 설명해 주실 수 있나요?\"\n",
    "        }}\n",
    "\n",
    "        {common_prompt}\"\"\",\n",
    "        model=ollama_model,\n",
    "    )\n",
    "\n",
    "    parser = PydanticOutputParser(pydantic_object=Question)\n",
    "\n",
    "    response = client.run(\n",
    "        agent=question_create_agent,\n",
    "        messages=[{ \"role\": \"user\",\n",
    "                    \"content\": f\"\"\"이력서 요약: {state['resume_summary']},\n",
    "                                키워드: {state['resume_keywords']},\n",
    "                                질문전략: {question_strategy},\n",
    "                                이전 질문과 평가: {conversation}\"\"\" },\n",
    "                { \"role\": \"system\", \"content\": parser.get_format_instructions() }])\n",
    "\n",
    "    result = get_result(response.messages[-1]['content'])\n",
    "    question = parser.parse(result)\n",
    "\n",
    "    return {\n",
    "        **state,\n",
    "        \"current_question\": question.content.strip(),\n",
    "        \"current_strategy\": question.strategy.strip(),\n",
    "        \"current_answer\": \"\"\n",
    "    }\n"
   ],
   "id": "5be180d7773c97dc",
   "outputs": [],
   "execution_count": 85
  },
  {
   "metadata": {},
   "cell_type": "markdown",
   "source": "### 피드백 보고서",
   "id": "9aed5874736b5a5b"
  },
  {
   "metadata": {
    "ExecuteTime": {
     "end_time": "2025-05-18T09:19:03.949236Z",
     "start_time": "2025-05-18T09:19:03.941936Z"
    }
   },
   "cell_type": "code",
   "source": [
    "class FeedbackInfo(BaseModel):\n",
    "    feedback: str = Field(..., description=\"면접 질문과 답변에 대한 3~5줄의 평가 피드백\")"
   ],
   "id": "e3457a09be3fd30e",
   "outputs": [],
   "execution_count": 87
  },
  {
   "metadata": {
    "ExecuteTime": {
     "end_time": "2025-05-18T09:34:40.065171Z",
     "start_time": "2025-05-18T09:34:40.045518Z"
    }
   },
   "cell_type": "code",
   "source": [
    "def generate_feedback_paragraph(question: str, answer: str, eval_result: str, eval_reason: str) -> str:\n",
    "    parser = PydanticOutputParser(pydantic_object=FeedbackInfo)\n",
    "\n",
    "    feedback_agent = Agent(\n",
    "        name=\"Feedback\",\n",
    "        instructions=\"\"\"너는 AI 면접관이야.\n",
    "        질문과 답변, 그리고 다른 면접관이 판단한 종합 평가 결과를 보고, 평가자의 입장에서 3~5줄로 된 구체적인 평가 피드백을 작성해줘.\n",
    "        답변의 논리성, 구체성, 경험에 기반한 설명, 개선할 부분 등을 모두 고려해줘.\n",
    "        \"\"\" + common_prompt,\n",
    "        model=ollama_model,\n",
    "    )\n",
    "\n",
    "    response = client.run(\n",
    "        agent=feedback_agent,\n",
    "        messages=[{ \"role\": \"user\", \"content\": f\"질문: {question}\\n답변: {answer}\\n평가: {eval_result}\\n평가이유: {eval_reason}\" },\n",
    "                  { \"role\": \"system\", \"content\": parser.get_format_instructions() }\n",
    "                  ])\n",
    "\n",
    "    result = get_result(response.messages[-1]['content'])\n",
    "    feedback = parser.parse(result)\n",
    "\n",
    "    return feedback.feedback"
   ],
   "id": "f4bc32332e1ce449",
   "outputs": [],
   "execution_count": 95
  },
  {
   "metadata": {
    "ExecuteTime": {
     "end_time": "2025-05-18T09:27:13.777337Z",
     "start_time": "2025-05-18T09:27:13.764005Z"
    }
   },
   "cell_type": "code",
   "source": [
    "class TotalFeedbackInfo(BaseModel):\n",
    "    feedback: str = Field(..., description=\"면접 질문과 답변, 피드백에 대한 3~5줄의 종합 평가 피드백\")"
   ],
   "id": "f3d9850a76495a53",
   "outputs": [],
   "execution_count": 89
  },
  {
   "metadata": {
    "ExecuteTime": {
     "end_time": "2025-05-18T10:13:08.265287Z",
     "start_time": "2025-05-18T10:13:08.248795Z"
    }
   },
   "cell_type": "code",
   "source": [
    "def summarize_interview(state: InterviewState) -> InterviewState:\n",
    "    print('\\n[summary]')\n",
    "    print(\"-\" * 100)\n",
    "\n",
    "    for evaluate in state[\"conversation\"]:\n",
    "        question = evaluate.get(\"질문\", \"\")\n",
    "        answer = evaluate.get(\"답변\", \"\")\n",
    "        eval_result = evaluate.get(\"평가종합\", \"\")\n",
    "        eval_reason = evaluate.get(\"평가에 대한 이유\", \"\")\n",
    "\n",
    "        feedback = generate_feedback_paragraph(question, answer, eval_result, eval_reason)\n",
    "        evaluate[\"상세피드백\"] = feedback\n",
    "\n",
    "        print(f\"질문: {question}\")\n",
    "        print(f\"답변: {answer}\")\n",
    "        print(f\"질문과의 관련성: {evaluate['질문과의 관련성']}, 답변의 구체성: {evaluate['답변의 구체성']}, 종합 평가: {evaluate['평가종합']}\")\n",
    "        print(f\"평가 이유: {eval_reason}\")\n",
    "        print(f\"피드백:\\n{feedback}\")\n",
    "        print(\"-\" * 100)\n",
    "\n",
    "    parser = PydanticOutputParser(pydantic_object=TotalFeedbackInfo)\n",
    "\n",
    "    total_feedback_agent = Agent(\n",
    "        name=\"Feedback\",\n",
    "        instructions=\"\"\"너는 AI 면접관이야. 질문, 답변에 대한 피드백을 보고, 평가자의 입장에서 3~5줄로 된 구체적인 종합 평가 피드백을 작성해줘.\n",
    "        답변의 논리성, 구체성, 경험에 기반한 설명, 개선할 부분 등을 모두 고려해줘.\n",
    "        \"\"\" + common_prompt,\n",
    "        model=ollama_model,\n",
    "    )\n",
    "\n",
    "    feedback_results = '\\n'.join(\n",
    "        [f'질문: {evaluate[\"질문\"]}\\n답변: {evaluate[\"답변\"]}\\n피드백: {evaluate[\"상세피드백\"]}'\n",
    "         for evaluate in state['conversation']]\n",
    "    )\n",
    "\n",
    "    response = client.run(\n",
    "        agent=total_feedback_agent,\n",
    "        messages=[{ \"role\": \"user\", \"content\": feedback_results },\n",
    "                  { \"role\": \"system\", \"content\": parser.get_format_instructions() }\n",
    "                  ])\n",
    "\n",
    "    result = get_result(response.messages[-1]['content'])\n",
    "    total_feedback = parser.parse(result)\n",
    "    print(f\"종합 피드백: {total_feedback.feedback}\")\n",
    "\n",
    "    return {\n",
    "        **state,\n",
    "        \"total_feedback\": total_feedback.feedback,\n",
    "    }"
   ],
   "id": "575892d506d3fe77",
   "outputs": [],
   "execution_count": 113
  },
  {
   "metadata": {},
   "cell_type": "markdown",
   "source": "## Agent 생성",
   "id": "fcef2c0bd9269be5"
  },
  {
   "metadata": {
    "ExecuteTime": {
     "end_time": "2025-05-18T10:13:10.566624Z",
     "start_time": "2025-05-18T10:13:10.545657Z"
    }
   },
   "cell_type": "code",
   "source": [
    "# 분기 판단 함수\n",
    "def route_next(state: InterviewState) -> Literal[\"generate\", \"summarize\"]:\n",
    "    if state['next_step'] == \"end\":\n",
    "        return \"summarize\"\n",
    "    else:\n",
    "        return \"generate\"\n",
    "\n",
    "\n",
    "# 그래프 정의 시작\n",
    "builder = StateGraph(InterviewState)\n",
    "\n",
    "# 노드 추가\n",
    "builder.add_node('evaluate_answer', evaluate_answer)\n",
    "builder.add_node('decide_next_step', decide_next_step)\n",
    "builder.add_node('generate', generate_question)\n",
    "builder.add_node('summarize', summarize_interview)\n",
    "\n",
    "# 노드 연결\n",
    "builder.add_edge(START, 'evaluate_answer')\n",
    "builder.add_conditional_edges('evaluate_answer', reflect_evaluation)\n",
    "builder.add_conditional_edges('decide_next_step', route_next)\n",
    "builder.add_edge('generate', END)\n",
    "builder.add_edge('summarize', END)\n",
    "\n",
    "# 컴파일\n",
    "graph = builder.compile()"
   ],
   "id": "a29ec2c5321360d0",
   "outputs": [],
   "execution_count": 114
  },
  {
   "metadata": {
    "ExecuteTime": {
     "end_time": "2025-05-18T09:43:09.372912Z",
     "start_time": "2025-05-18T09:43:05.025419Z"
    }
   },
   "cell_type": "code",
   "source": [
    "## 그래프 생성기\n",
    "from IPython.display import Image, display\n",
    "\n",
    "# 외부 서버를 호출하는 동안 대기시간 초과로 오류가 날 수 있습니다.\n",
    "try:\n",
    "    display(Image(graph.get_graph().draw_mermaid_png()))\n",
    "except Exception:\n",
    "    print(graph.get_graph().draw_mermaid())\n",
    "    print('https://mermaid.live 에 복붙')\n",
    "    pass"
   ],
   "id": "878779276ec25b2a",
   "outputs": [
    {
     "data": {
      "image/png": "[encoded data removed]",
      "text/plain": [
       "<IPython.core.display.Image object>"
      ]
     },
     "metadata": {},
     "output_type": "display_data"
    }
   ],
   "execution_count": 103
  },
  {
   "metadata": {},
   "cell_type": "markdown",
   "source": "## 종합 테스트",
   "id": "ea98c71f20dd2ee7"
  },
  {
   "metadata": {
    "ExecuteTime": {
     "end_time": "2025-05-18T10:12:36.416794Z",
     "start_time": "2025-05-18T10:06:10.922330Z"
    }
   },
   "cell_type": "code",
   "source": [
    "state = pre_processing_interview(resume)\n",
    "\n",
    "# 사용자 응답 루프\n",
    "while True:\n",
    "    message = f\"\"\"\n",
    "    [질문]\n",
    "    {state[\"current_question\"]}\n",
    "\n",
    "    [답변 입력]\n",
    "    \"\"\"\n",
    "\n",
    "    state[\"current_answer\"] = input(message)\n",
    "\n",
    "    # 그래프 실행: 평가 → 판단 → 다음 질문 생성 or 종료\n",
    "    state = graph.invoke(state)\n",
    "\n",
    "    if state[\"next_step\"] == \"end\":\n",
    "        break"
   ],
   "id": "8068e745c0ecc60d",
   "outputs": [
    {
     "name": "stdout",
     "output_type": "stream",
     "text": [
      "\n",
      "[summary]\n",
      "----------------------------------------------------------------------------------------------------\n",
      "질문: GPT 기반 시스템 도입 시 비전문가와의 기술적 협의 과정에서 어떤 전략으로 이해관계를 조율했는지 예시를 들어 설명해 주세요.\n",
      "답변: Streamlit을 활용한 시연용 데모를 제작해 비전문가가 직접 사용해보며 이해할 수 있게 유도하고, 주요 개념은 시각 자료로 설명해 기능성과 필요성에 대한 공감대를 이끌어냈습니다.\n",
      "피드백:\n",
      "Streamlit을 활용한 시연 및 시각 자료를 통한 설명이라는 구체적인 전략 제시로 질문 의도에 대한 이해가 명확했습니다. 비전문가와의 소통에 효과적인 접근법을 실제 사례로 보여준 점 commendable합니다. 다만, 협의 중 발생한 구체적 갈등 사례나 조율 결과에 대한 설명이 부족해, 전략의 성과나 한계까지 다각도로 파악하기 어려웠습니다. 향후에는 실제 상황에서의 도전과 해결 과정을 더 구체적으로 공유하는 것이 좋겠습니다.\n",
      "----------------------------------------------------------------------------------------------------\n",
      "질문: 금융 IT 분야에서 안정적인 서비스 운영을 중시하는 근거를 설명해 주시고, 이에 기반한 기술적 접근 방식을 비즈니스 가치로 전환할 때 어떤 의사소통 전략을 사용했는지 구체적으로 설명해 주시기 바랍니다.\n",
      "답변: 금융 IT는 거래 중단이 곧 신뢰 하락으로 직결되므로 무중단 배포, 이중화, 장애 대응 자동화 등을 도입했고, 이 과정에서 기술 용어 대신 서비스 중단 시 손실 규모 등 비즈니스 언어로 설명해 경영진의 공감을 유도했습니다.\n",
      "피드백:\n",
      "답변은 기술적 접근 방안과 비즈니스 가치 전환 전략을 구체적으로 설명하며, 질문의 두 축을 모두 충실히 담았습니다. 무중단 배포 등 기술적 대응 방안과 비즈니스 언어 전환 사례는 전문성과 실무 경험을 반영하고 있어 우수합니다. 다만, 손실 규모 산정 방법이나 구체적인 의사소통 채널(예: 보고서, 회의 등)을 더 상세히 언급한다면 더욱 설득력 있게 전달할 수 있을 것입니다.\n",
      "----------------------------------------------------------------------------------------------------\n",
      "질문: 서버 개발 과정에서 보안 강화를 위해 어떤 기술적 조치를 도입했고, 비전문가와의 협업을 위해 어떤 의사소통 전략을 사용했는지 설명해 주시기 바랍니다.\n",
      "답변: JWT 기반 인증, HTTPS 적용, 입력값 검증 등 기술을 도입했고, 비전문가에겐 \"데이터 유출을 막기 위한 안전장치\"처럼 비유와 사례 중심으로 설명했습니다.\n",
      "피드백:\n",
      "기술적 조치와 비전문가 대상 전략 모두 구체적으로 설명해줬습니다. JWT, HTTPS, 입력값 검증 등 실제 구현 사례를 제시해 전문성 있는 답변이라 평가됩니다. 다만 보안 강화 시 고려해야 할 다른 요소(예: 세션 관리, 접근 제어 정책 등)를 추가 설명하거나, 비유적 설명 시 구체적인 사례를 더 구체화하면 더욱 완성도가 높아졌을 것입니다. 기술적 배경 지식과 커뮤니케이션 전략의 균형 잡힌 전개가 향후 개선 포인트입니다.\n",
      "----------------------------------------------------------------------------------------------------\n",
      "질문: OCR 기술을 금융 IT 분야에 적용할 때, 비전문가에게 기술적 복잡성을 제거한 설명 프레임워크를 설계했고, 그 과정에서 어떤 커뮤니케이션 전략으로 이해도를 높였는지 구체적으로 설명해 주세요.\n",
      "답변: 종이 문서를 자동으로 읽어주는 똑똑한 비서라는 비유로 시작해, 입력(서류) → 처리(OCR 인식) → 출력(디지털 텍스트) 흐름으로 설명했고, 실제 서류 예시를 함께 보여주며 시각 자료 중심의 커뮤니케이션 전략으로 이해도를 높였습니다.\n",
      "피드백:\n",
      "기술적 복잡성을 시각화한 비유적 설명과 실제 서류 예시는 비전문가 이해도 제고에 효과적이었으며, 프레임워크 구조가 명확하게 전달되었습니다. 시각 자료 중심 전략은 커뮤니케이션 전략의 핵심을 강조한 점이 장점입니다. 다만, 구체적인 성공 사례나 수치적 효과(예: 효율성 향상률)를 제시하면 전략의 실용성을 더욱 입증할 수 있을 것입니다. 추가로 타겟층의 피드백 수집 방법이나 지속적 교육 계획도 언급하면 더욱 완성도 높은 답변이 될 수 있습니다.\n",
      "----------------------------------------------------------------------------------------------------\n",
      "질문: LSTM과 FAISS를 결합한 금융 데이터 분석 시스템에서, 실시간 성능 최적화를 위해 어떤 알고리즘적 수정을 도입했고, 이를 검증하기 위한 평가 척도를 어떻게 설계했는지 구체적으로 설명해 주세요.\n",
      "답변: LSTM 모델 경량화 위해 시퀀스 길이 조절과 배치 처리 최적화 도입, FAISS는 인덱스 구조 튜닝해 검색 속도 개선; MAE와 응답 시간 지표로 성능 검증했습니다.\n",
      "피드백:\n",
      "답변은 알고리즘적 수정과 평가 척도 설계를 명확히 다루며, 시퀀스 길이 조절 및 배치 처리 최적화 등 실시간 성능 향상에 효과적인 기법을 제시했습니다. MAE와 응답 시간 지표 선택도 타당성 있으며, 기술적 접근법에 대한 논리적 흐름이 우수합니다. 다만, 각 수정의 성능 개선 효과를 정량적으로 비교하거나, 시스템 스케일링 시 고려해야 할 제약 조건에 대한 설명이 추가되면 더욱 깊이 있는 분석이 가능했을 것입니다.\n",
      "----------------------------------------------------------------------------------------------------\n",
      "종합 피드백: 기술적 수정 사항과 평가 척도 모두 구체적으로 제시해줬으며, 시퀀스 길이 조절 및 배치 처리 최적화 등 실시간 성능 향상에 효과적인 접근법을 다루는 점이 높이 평가됩니다. MAE와 응답 시간 지표 선택도 타당성 있는 판단입니다. 다만, 각 수정의 성능 개선 효과를 데이터 기반으로 비교하거나, 시스템 확장 시 발생할 수 있는 제약 조건(예: 메모리 사용량, 처리 병목)에 대한 고려 사항이 더 명확히 서술되면 분석의 깊이가 더욱 돋보였을 것입니다. 기술적 배경과 실무적 한계를 통합적으로 논의하는 것이 개선 포인트입니다.\n"
     ]
    }
   ],
   "execution_count": 110
  }
 ],
 "metadata": {
  "kernelspec": {
   "display_name": "Python 3",
   "language": "python",
   "name": "python3"
  },
  "language_info": {
   "codemirror_mode": {
    "name": "ipython",
    "version": 2
   },
   "file_extension": ".py",
   "mimetype": "text/x-python",
   "name": "python",
   "nbconvert_exporter": "python",
   "pygments_lexer": "ipython2",
   "version": "2.7.6"
  }
 },
 "nbformat": 4,
 "nbformat_minor": 5
}
