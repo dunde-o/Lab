{
 "cells": [
  {
   "metadata": {},
   "cell_type": "markdown",
   "source": "# Swarm 으로 챗봇 만들기",
   "id": "17594ee2cac822f5"
  },
  {
   "metadata": {},
   "cell_type": "markdown",
   "source": "## 준비",
   "id": "1dc5500bbbc94863"
  },
  {
   "metadata": {
    "collapsed": true,
    "ExecuteTime": {
     "end_time": "2025-05-13T13:35:30.762709Z",
     "start_time": "2025-05-13T13:35:17.332314Z"
    }
   },
   "cell_type": "code",
   "source": [
    "## 사전 준비\n",
    "!pip install git+https://github.com/openai/swarm.git\n",
    "!pip install gradio duckduckgo_search"
   ],
   "id": "initial_id",
   "outputs": [
    {
     "name": "stdout",
     "output_type": "stream",
     "text": [
      "Collecting git+https://github.com/openai/swarm.git\n",
      "  Cloning https://github.com/openai/swarm.git to c:\\users\\inkyu.choi\\appdata\\local\\temp\\pip-req-build-ngt_790p\n",
      "  Resolved https://github.com/openai/swarm.git to commit 0c82d7d868bb8e2d380dfd2a319b5c3a1f4c0cb9\n",
      "  Installing build dependencies: started\n",
      "  Installing build dependencies: finished with status 'done'\n",
      "  Getting requirements to build wheel: started\n",
      "  Getting requirements to build wheel: finished with status 'done'\n",
      "  Preparing metadata (pyproject.toml): started\n",
      "  Preparing metadata (pyproject.toml): finished with status 'done'\n",
      "Requirement already satisfied: numpy in d:\\workspace\\repository\\lab\\venv\\lib\\site-packages (from swarm==0.1.0) (2.1.3)\n",
      "Requirement already satisfied: openai>=1.33.0 in d:\\workspace\\repository\\lab\\venv\\lib\\site-packages (from swarm==0.1.0) (1.78.1)\n",
      "Requirement already satisfied: pytest in d:\\workspace\\repository\\lab\\venv\\lib\\site-packages (from swarm==0.1.0) (8.3.5)\n",
      "Requirement already satisfied: requests in d:\\workspace\\repository\\lab\\venv\\lib\\site-packages (from swarm==0.1.0) (2.32.3)\n",
      "Requirement already satisfied: tqdm in d:\\workspace\\repository\\lab\\venv\\lib\\site-packages (from swarm==0.1.0) (4.67.1)\n",
      "Requirement already satisfied: pre-commit in d:\\workspace\\repository\\lab\\venv\\lib\\site-packages (from swarm==0.1.0) (4.2.0)\n",
      "Requirement already satisfied: instructor in d:\\workspace\\repository\\lab\\venv\\lib\\site-packages (from swarm==0.1.0) (1.8.1)\n",
      "Requirement already satisfied: anyio<5,>=3.5.0 in d:\\workspace\\repository\\lab\\venv\\lib\\site-packages (from openai>=1.33.0->swarm==0.1.0) (4.9.0)\n",
      "Requirement already satisfied: distro<2,>=1.7.0 in d:\\workspace\\repository\\lab\\venv\\lib\\site-packages (from openai>=1.33.0->swarm==0.1.0) (1.9.0)\n",
      "Requirement already satisfied: httpx<1,>=0.23.0 in d:\\workspace\\repository\\lab\\venv\\lib\\site-packages (from openai>=1.33.0->swarm==0.1.0) (0.28.1)\n",
      "Requirement already satisfied: jiter<1,>=0.4.0 in d:\\workspace\\repository\\lab\\venv\\lib\\site-packages (from openai>=1.33.0->swarm==0.1.0) (0.8.2)\n",
      "Requirement already satisfied: pydantic<3,>=1.9.0 in d:\\workspace\\repository\\lab\\venv\\lib\\site-packages (from openai>=1.33.0->swarm==0.1.0) (2.11.4)\n",
      "Requirement already satisfied: sniffio in d:\\workspace\\repository\\lab\\venv\\lib\\site-packages (from openai>=1.33.0->swarm==0.1.0) (1.3.1)\n",
      "Requirement already satisfied: typing-extensions<5,>=4.11 in d:\\workspace\\repository\\lab\\venv\\lib\\site-packages (from openai>=1.33.0->swarm==0.1.0) (4.13.2)\n",
      "Requirement already satisfied: idna>=2.8 in d:\\workspace\\repository\\lab\\venv\\lib\\site-packages (from anyio<5,>=3.5.0->openai>=1.33.0->swarm==0.1.0) (3.10)\n",
      "Requirement already satisfied: certifi in d:\\workspace\\repository\\lab\\venv\\lib\\site-packages (from httpx<1,>=0.23.0->openai>=1.33.0->swarm==0.1.0) (2025.4.26)\n",
      "Requirement already satisfied: httpcore==1.* in d:\\workspace\\repository\\lab\\venv\\lib\\site-packages (from httpx<1,>=0.23.0->openai>=1.33.0->swarm==0.1.0) (1.0.9)\n",
      "Requirement already satisfied: h11>=0.16 in d:\\workspace\\repository\\lab\\venv\\lib\\site-packages (from httpcore==1.*->httpx<1,>=0.23.0->openai>=1.33.0->swarm==0.1.0) (0.16.0)\n",
      "Requirement already satisfied: annotated-types>=0.6.0 in d:\\workspace\\repository\\lab\\venv\\lib\\site-packages (from pydantic<3,>=1.9.0->openai>=1.33.0->swarm==0.1.0) (0.7.0)\n",
      "Requirement already satisfied: pydantic-core==2.33.2 in d:\\workspace\\repository\\lab\\venv\\lib\\site-packages (from pydantic<3,>=1.9.0->openai>=1.33.0->swarm==0.1.0) (2.33.2)\n",
      "Requirement already satisfied: typing-inspection>=0.4.0 in d:\\workspace\\repository\\lab\\venv\\lib\\site-packages (from pydantic<3,>=1.9.0->openai>=1.33.0->swarm==0.1.0) (0.4.0)\n",
      "Requirement already satisfied: colorama in d:\\workspace\\repository\\lab\\venv\\lib\\site-packages (from tqdm->swarm==0.1.0) (0.4.6)\n",
      "Requirement already satisfied: aiohttp<4.0.0,>=3.9.1 in d:\\workspace\\repository\\lab\\venv\\lib\\site-packages (from instructor->swarm==0.1.0) (3.11.18)\n",
      "Requirement already satisfied: docstring-parser<1.0,>=0.16 in d:\\workspace\\repository\\lab\\venv\\lib\\site-packages (from instructor->swarm==0.1.0) (0.16)\n",
      "Requirement already satisfied: jinja2<4.0.0,>=3.1.4 in d:\\workspace\\repository\\lab\\venv\\lib\\site-packages (from instructor->swarm==0.1.0) (3.1.6)\n",
      "Requirement already satisfied: rich<14.0.0,>=13.7.0 in d:\\workspace\\repository\\lab\\venv\\lib\\site-packages (from instructor->swarm==0.1.0) (13.9.4)\n",
      "Requirement already satisfied: tenacity<10.0.0,>=9.0.0 in d:\\workspace\\repository\\lab\\venv\\lib\\site-packages (from instructor->swarm==0.1.0) (9.1.2)\n",
      "Requirement already satisfied: typer<1.0.0,>=0.9.0 in d:\\workspace\\repository\\lab\\venv\\lib\\site-packages (from instructor->swarm==0.1.0) (0.15.3)\n",
      "Requirement already satisfied: aiohappyeyeballs>=2.3.0 in d:\\workspace\\repository\\lab\\venv\\lib\\site-packages (from aiohttp<4.0.0,>=3.9.1->instructor->swarm==0.1.0) (2.6.1)\n",
      "Requirement already satisfied: aiosignal>=1.1.2 in d:\\workspace\\repository\\lab\\venv\\lib\\site-packages (from aiohttp<4.0.0,>=3.9.1->instructor->swarm==0.1.0) (1.3.2)\n",
      "Requirement already satisfied: attrs>=17.3.0 in d:\\workspace\\repository\\lab\\venv\\lib\\site-packages (from aiohttp<4.0.0,>=3.9.1->instructor->swarm==0.1.0) (25.3.0)\n",
      "Requirement already satisfied: frozenlist>=1.1.1 in d:\\workspace\\repository\\lab\\venv\\lib\\site-packages (from aiohttp<4.0.0,>=3.9.1->instructor->swarm==0.1.0) (1.6.0)\n",
      "Requirement already satisfied: multidict<7.0,>=4.5 in d:\\workspace\\repository\\lab\\venv\\lib\\site-packages (from aiohttp<4.0.0,>=3.9.1->instructor->swarm==0.1.0) (6.4.3)\n",
      "Requirement already satisfied: propcache>=0.2.0 in d:\\workspace\\repository\\lab\\venv\\lib\\site-packages (from aiohttp<4.0.0,>=3.9.1->instructor->swarm==0.1.0) (0.3.1)\n",
      "Requirement already satisfied: yarl<2.0,>=1.17.0 in d:\\workspace\\repository\\lab\\venv\\lib\\site-packages (from aiohttp<4.0.0,>=3.9.1->instructor->swarm==0.1.0) (1.20.0)\n",
      "Requirement already satisfied: MarkupSafe>=2.0 in d:\\workspace\\repository\\lab\\venv\\lib\\site-packages (from jinja2<4.0.0,>=3.1.4->instructor->swarm==0.1.0) (3.0.2)\n",
      "Requirement already satisfied: charset-normalizer<4,>=2 in d:\\workspace\\repository\\lab\\venv\\lib\\site-packages (from requests->swarm==0.1.0) (3.4.2)\n",
      "Requirement already satisfied: urllib3<3,>=1.21.1 in d:\\workspace\\repository\\lab\\venv\\lib\\site-packages (from requests->swarm==0.1.0) (2.4.0)\n",
      "Requirement already satisfied: markdown-it-py>=2.2.0 in d:\\workspace\\repository\\lab\\venv\\lib\\site-packages (from rich<14.0.0,>=13.7.0->instructor->swarm==0.1.0) (3.0.0)\n",
      "Requirement already satisfied: pygments<3.0.0,>=2.13.0 in d:\\workspace\\repository\\lab\\venv\\lib\\site-packages (from rich<14.0.0,>=13.7.0->instructor->swarm==0.1.0) (2.19.1)\n",
      "Requirement already satisfied: click>=8.0.0 in d:\\workspace\\repository\\lab\\venv\\lib\\site-packages (from typer<1.0.0,>=0.9.0->instructor->swarm==0.1.0) (8.2.0)\n",
      "Requirement already satisfied: shellingham>=1.3.0 in d:\\workspace\\repository\\lab\\venv\\lib\\site-packages (from typer<1.0.0,>=0.9.0->instructor->swarm==0.1.0) (1.5.4)\n",
      "Requirement already satisfied: mdurl~=0.1 in d:\\workspace\\repository\\lab\\venv\\lib\\site-packages (from markdown-it-py>=2.2.0->rich<14.0.0,>=13.7.0->instructor->swarm==0.1.0) (0.1.2)\n",
      "Requirement already satisfied: cfgv>=2.0.0 in d:\\workspace\\repository\\lab\\venv\\lib\\site-packages (from pre-commit->swarm==0.1.0) (3.4.0)\n",
      "Requirement already satisfied: identify>=1.0.0 in d:\\workspace\\repository\\lab\\venv\\lib\\site-packages (from pre-commit->swarm==0.1.0) (2.6.10)\n",
      "Requirement already satisfied: nodeenv>=0.11.1 in d:\\workspace\\repository\\lab\\venv\\lib\\site-packages (from pre-commit->swarm==0.1.0) (1.9.1)\n",
      "Requirement already satisfied: pyyaml>=5.1 in d:\\workspace\\repository\\lab\\venv\\lib\\site-packages (from pre-commit->swarm==0.1.0) (6.0.2)\n",
      "Requirement already satisfied: virtualenv>=20.10.0 in d:\\workspace\\repository\\lab\\venv\\lib\\site-packages (from pre-commit->swarm==0.1.0) (20.31.2)\n",
      "Requirement already satisfied: distlib<1,>=0.3.7 in d:\\workspace\\repository\\lab\\venv\\lib\\site-packages (from virtualenv>=20.10.0->pre-commit->swarm==0.1.0) (0.3.9)\n",
      "Requirement already satisfied: filelock<4,>=3.12.2 in d:\\workspace\\repository\\lab\\venv\\lib\\site-packages (from virtualenv>=20.10.0->pre-commit->swarm==0.1.0) (3.13.1)\n",
      "Requirement already satisfied: platformdirs<5,>=3.9.1 in d:\\workspace\\repository\\lab\\venv\\lib\\site-packages (from virtualenv>=20.10.0->pre-commit->swarm==0.1.0) (4.3.7)\n",
      "Requirement already satisfied: iniconfig in d:\\workspace\\repository\\lab\\venv\\lib\\site-packages (from pytest->swarm==0.1.0) (2.1.0)\n",
      "Requirement already satisfied: packaging in d:\\workspace\\repository\\lab\\venv\\lib\\site-packages (from pytest->swarm==0.1.0) (24.2)\n",
      "Requirement already satisfied: pluggy<2,>=1.5 in d:\\workspace\\repository\\lab\\venv\\lib\\site-packages (from pytest->swarm==0.1.0) (1.5.0)\n"
     ]
    },
    {
     "name": "stderr",
     "output_type": "stream",
     "text": [
      "  Running command git clone --filter=blob:none --quiet https://github.com/openai/swarm.git 'C:\\Users\\inkyu.choi\\AppData\\Local\\Temp\\pip-req-build-ngt_790p'\n"
     ]
    },
    {
     "name": "stdout",
     "output_type": "stream",
     "text": [
      "Requirement already satisfied: gradio in d:\\workspace\\repository\\lab\\venv\\lib\\site-packages (5.29.0)\n",
      "Requirement already satisfied: duckduckgo_search in d:\\workspace\\repository\\lab\\venv\\lib\\site-packages (8.0.1)\n",
      "Requirement already satisfied: aiofiles<25.0,>=22.0 in d:\\workspace\\repository\\lab\\venv\\lib\\site-packages (from gradio) (24.1.0)\n",
      "Requirement already satisfied: anyio<5.0,>=3.0 in d:\\workspace\\repository\\lab\\venv\\lib\\site-packages (from gradio) (4.9.0)\n",
      "Requirement already satisfied: fastapi<1.0,>=0.115.2 in d:\\workspace\\repository\\lab\\venv\\lib\\site-packages (from gradio) (0.115.12)\n",
      "Requirement already satisfied: ffmpy in d:\\workspace\\repository\\lab\\venv\\lib\\site-packages (from gradio) (0.5.0)\n",
      "Requirement already satisfied: gradio-client==1.10.0 in d:\\workspace\\repository\\lab\\venv\\lib\\site-packages (from gradio) (1.10.0)\n",
      "Requirement already satisfied: groovy~=0.1 in d:\\workspace\\repository\\lab\\venv\\lib\\site-packages (from gradio) (0.1.2)\n",
      "Requirement already satisfied: httpx>=0.24.1 in d:\\workspace\\repository\\lab\\venv\\lib\\site-packages (from gradio) (0.28.1)\n",
      "Requirement already satisfied: huggingface-hub>=0.28.1 in d:\\workspace\\repository\\lab\\venv\\lib\\site-packages (from gradio) (0.31.1)\n",
      "Requirement already satisfied: jinja2<4.0 in d:\\workspace\\repository\\lab\\venv\\lib\\site-packages (from gradio) (3.1.6)\n",
      "Requirement already satisfied: markupsafe<4.0,>=2.0 in d:\\workspace\\repository\\lab\\venv\\lib\\site-packages (from gradio) (3.0.2)\n",
      "Requirement already satisfied: numpy<3.0,>=1.0 in d:\\workspace\\repository\\lab\\venv\\lib\\site-packages (from gradio) (2.1.3)\n",
      "Requirement already satisfied: orjson~=3.0 in d:\\workspace\\repository\\lab\\venv\\lib\\site-packages (from gradio) (3.10.18)\n",
      "Requirement already satisfied: packaging in d:\\workspace\\repository\\lab\\venv\\lib\\site-packages (from gradio) (24.2)\n",
      "Requirement already satisfied: pandas<3.0,>=1.0 in d:\\workspace\\repository\\lab\\venv\\lib\\site-packages (from gradio) (2.2.3)\n",
      "Requirement already satisfied: pillow<12.0,>=8.0 in d:\\workspace\\repository\\lab\\venv\\lib\\site-packages (from gradio) (11.2.1)\n",
      "Requirement already satisfied: pydantic<2.12,>=2.0 in d:\\workspace\\repository\\lab\\venv\\lib\\site-packages (from gradio) (2.11.4)\n",
      "Requirement already satisfied: pydub in d:\\workspace\\repository\\lab\\venv\\lib\\site-packages (from gradio) (0.25.1)\n",
      "Requirement already satisfied: python-multipart>=0.0.18 in d:\\workspace\\repository\\lab\\venv\\lib\\site-packages (from gradio) (0.0.20)\n",
      "Requirement already satisfied: pyyaml<7.0,>=5.0 in d:\\workspace\\repository\\lab\\venv\\lib\\site-packages (from gradio) (6.0.2)\n",
      "Requirement already satisfied: ruff>=0.9.3 in d:\\workspace\\repository\\lab\\venv\\lib\\site-packages (from gradio) (0.11.9)\n",
      "Requirement already satisfied: safehttpx<0.2.0,>=0.1.6 in d:\\workspace\\repository\\lab\\venv\\lib\\site-packages (from gradio) (0.1.6)\n",
      "Requirement already satisfied: semantic-version~=2.0 in d:\\workspace\\repository\\lab\\venv\\lib\\site-packages (from gradio) (2.10.0)\n",
      "Requirement already satisfied: starlette<1.0,>=0.40.0 in d:\\workspace\\repository\\lab\\venv\\lib\\site-packages (from gradio) (0.46.2)\n",
      "Requirement already satisfied: tomlkit<0.14.0,>=0.12.0 in d:\\workspace\\repository\\lab\\venv\\lib\\site-packages (from gradio) (0.13.2)\n",
      "Requirement already satisfied: typer<1.0,>=0.12 in d:\\workspace\\repository\\lab\\venv\\lib\\site-packages (from gradio) (0.15.3)\n",
      "Requirement already satisfied: typing-extensions~=4.0 in d:\\workspace\\repository\\lab\\venv\\lib\\site-packages (from gradio) (4.13.2)\n",
      "Requirement already satisfied: uvicorn>=0.14.0 in d:\\workspace\\repository\\lab\\venv\\lib\\site-packages (from gradio) (0.34.2)\n",
      "Requirement already satisfied: fsspec in d:\\workspace\\repository\\lab\\venv\\lib\\site-packages (from gradio-client==1.10.0->gradio) (2024.6.1)\n",
      "Requirement already satisfied: websockets<16.0,>=10.0 in d:\\workspace\\repository\\lab\\venv\\lib\\site-packages (from gradio-client==1.10.0->gradio) (15.0.1)\n",
      "Requirement already satisfied: idna>=2.8 in d:\\workspace\\repository\\lab\\venv\\lib\\site-packages (from anyio<5.0,>=3.0->gradio) (3.10)\n",
      "Requirement already satisfied: sniffio>=1.1 in d:\\workspace\\repository\\lab\\venv\\lib\\site-packages (from anyio<5.0,>=3.0->gradio) (1.3.1)\n",
      "Requirement already satisfied: python-dateutil>=2.8.2 in d:\\workspace\\repository\\lab\\venv\\lib\\site-packages (from pandas<3.0,>=1.0->gradio) (2.9.0.post0)\n",
      "Requirement already satisfied: pytz>=2020.1 in d:\\workspace\\repository\\lab\\venv\\lib\\site-packages (from pandas<3.0,>=1.0->gradio) (2025.2)\n",
      "Requirement already satisfied: tzdata>=2022.7 in d:\\workspace\\repository\\lab\\venv\\lib\\site-packages (from pandas<3.0,>=1.0->gradio) (2025.2)\n",
      "Requirement already satisfied: annotated-types>=0.6.0 in d:\\workspace\\repository\\lab\\venv\\lib\\site-packages (from pydantic<2.12,>=2.0->gradio) (0.7.0)\n",
      "Requirement already satisfied: pydantic-core==2.33.2 in d:\\workspace\\repository\\lab\\venv\\lib\\site-packages (from pydantic<2.12,>=2.0->gradio) (2.33.2)\n",
      "Requirement already satisfied: typing-inspection>=0.4.0 in d:\\workspace\\repository\\lab\\venv\\lib\\site-packages (from pydantic<2.12,>=2.0->gradio) (0.4.0)\n",
      "Requirement already satisfied: click>=8.0.0 in d:\\workspace\\repository\\lab\\venv\\lib\\site-packages (from typer<1.0,>=0.12->gradio) (8.2.0)\n",
      "Requirement already satisfied: shellingham>=1.3.0 in d:\\workspace\\repository\\lab\\venv\\lib\\site-packages (from typer<1.0,>=0.12->gradio) (1.5.4)\n",
      "Requirement already satisfied: rich>=10.11.0 in d:\\workspace\\repository\\lab\\venv\\lib\\site-packages (from typer<1.0,>=0.12->gradio) (13.9.4)\n",
      "Requirement already satisfied: primp>=0.15.0 in d:\\workspace\\repository\\lab\\venv\\lib\\site-packages (from duckduckgo_search) (0.15.0)\n",
      "Requirement already satisfied: lxml>=5.3.0 in d:\\workspace\\repository\\lab\\venv\\lib\\site-packages (from duckduckgo_search) (5.4.0)\n",
      "Requirement already satisfied: colorama in d:\\workspace\\repository\\lab\\venv\\lib\\site-packages (from click>=8.0.0->typer<1.0,>=0.12->gradio) (0.4.6)\n",
      "Requirement already satisfied: certifi in d:\\workspace\\repository\\lab\\venv\\lib\\site-packages (from httpx>=0.24.1->gradio) (2025.4.26)\n",
      "Requirement already satisfied: httpcore==1.* in d:\\workspace\\repository\\lab\\venv\\lib\\site-packages (from httpx>=0.24.1->gradio) (1.0.9)\n",
      "Requirement already satisfied: h11>=0.16 in d:\\workspace\\repository\\lab\\venv\\lib\\site-packages (from httpcore==1.*->httpx>=0.24.1->gradio) (0.16.0)\n",
      "Requirement already satisfied: filelock in d:\\workspace\\repository\\lab\\venv\\lib\\site-packages (from huggingface-hub>=0.28.1->gradio) (3.13.1)\n",
      "Requirement already satisfied: requests in d:\\workspace\\repository\\lab\\venv\\lib\\site-packages (from huggingface-hub>=0.28.1->gradio) (2.32.3)\n",
      "Requirement already satisfied: tqdm>=4.42.1 in d:\\workspace\\repository\\lab\\venv\\lib\\site-packages (from huggingface-hub>=0.28.1->gradio) (4.67.1)\n",
      "Requirement already satisfied: six>=1.5 in d:\\workspace\\repository\\lab\\venv\\lib\\site-packages (from python-dateutil>=2.8.2->pandas<3.0,>=1.0->gradio) (1.17.0)\n",
      "Requirement already satisfied: markdown-it-py>=2.2.0 in d:\\workspace\\repository\\lab\\venv\\lib\\site-packages (from rich>=10.11.0->typer<1.0,>=0.12->gradio) (3.0.0)\n",
      "Requirement already satisfied: pygments<3.0.0,>=2.13.0 in d:\\workspace\\repository\\lab\\venv\\lib\\site-packages (from rich>=10.11.0->typer<1.0,>=0.12->gradio) (2.19.1)\n",
      "Requirement already satisfied: mdurl~=0.1 in d:\\workspace\\repository\\lab\\venv\\lib\\site-packages (from markdown-it-py>=2.2.0->rich>=10.11.0->typer<1.0,>=0.12->gradio) (0.1.2)\n",
      "Requirement already satisfied: charset-normalizer<4,>=2 in d:\\workspace\\repository\\lab\\venv\\lib\\site-packages (from requests->huggingface-hub>=0.28.1->gradio) (3.4.2)\n",
      "Requirement already satisfied: urllib3<3,>=1.21.1 in d:\\workspace\\repository\\lab\\venv\\lib\\site-packages (from requests->huggingface-hub>=0.28.1->gradio) (2.4.0)\n"
     ]
    }
   ],
   "execution_count": 5
  },
  {
   "metadata": {
    "ExecuteTime": {
     "end_time": "2025-05-13T13:35:30.780250Z",
     "start_time": "2025-05-13T13:35:30.770684Z"
    }
   },
   "cell_type": "code",
   "source": [
    "import os\n",
    "\n",
    "def load_api_keys(filepath):\n",
    "    with open(filepath, \"r\") as f:\n",
    "        for line in f:\n",
    "            line = line.strip()\n",
    "            if line and \"=\" in line:\n",
    "                key, value = line.split(\"=\", 1)\n",
    "                os.environ[key.strip()] = value.strip()\n",
    "\n",
    "filepath = '../.env'\n",
    "\n",
    "# API 키 로드 및 환경변수 설정\n",
    "load_api_keys(filepath)"
   ],
   "id": "731b66d4e54292c3",
   "outputs": [],
   "execution_count": 6
  },
  {
   "metadata": {
    "ExecuteTime": {
     "end_time": "2025-05-13T13:35:30.812772Z",
     "start_time": "2025-05-13T13:35:30.808051Z"
    }
   },
   "cell_type": "code",
   "source": "ollama_model = 'qwen3:latest'",
   "id": "909a60fe68fc6eb2",
   "outputs": [],
   "execution_count": 7
  },
  {
   "metadata": {
    "ExecuteTime": {
     "end_time": "2025-05-13T13:40:19.615078Z",
     "start_time": "2025-05-13T13:40:14.410751Z"
    }
   },
   "cell_type": "code",
   "source": [
    "from swarm import Swarm, Agent\n",
    "\n",
    "client = Swarm()\n",
    "\n",
    "agent = Agent(\n",
    "    name=\"Document Summary Expert\",\n",
    "    instructions=\"\"\"\n",
    "    너는 문서를 요약하는 전문가야.\n",
    "    주어진 문서를 핵심 키워드를 포함해서 요약해줘.\n",
    "    반드시 한국어로만 응답해야 되며 한 줄 텍스트로 보여줘.\n",
    "\n",
    "    응답예시:\n",
    "    사용자가 정식 프로그램(데몬툴즈, 유니락, 엑스 플레그 등)도 PUA(잠재적으로 불필요한 앱) 또는 바이러스로 분류받는 현상에 대해 혼란스러워합니다.\n",
    "    \"\"\",\n",
    "    # functions=[get_news_articles],\n",
    "    model=ollama_model\n",
    ")\n",
    "\n",
    "response = client.run(\n",
    "    agent=agent,\n",
    "    messages=[{\"role\": \"user\", \"content\": f\"\"\"중요도 낮음의 PUA로 시작하는 바이러스가 옛날파일들한테 나오는게 문제인데요.\n",
    "\n",
    "물론 어릴적 받았었던 불법복제 게임에서도 나왔지만 정식 프로그램에도 나와서 혼란스럽습니다.\n",
    "\n",
    "우선 나온목록이\n",
    "\n",
    "PUA:Win32/Niguide\n",
    "\n",
    "2014년도경에 네이버 소프트웨어 자료실에서 받은 데몬툴즈 설치파일.. 우선 네이버 자료실에서 받은 정식버전이구요.\n",
    "\n",
    "PUA:Win32/CandyOpen\n",
    "\n",
    "utorrent.exe 파일로 이것도 토렌트 사이트에서 받은 정식 토렌트실행기 파일입니다.\n",
    "\n",
    "PUA:Win32/Vigua.A\n",
    "\n",
    "agth 라고 외국게임 번역해주는 프로그램인데 걍 일반인이 무료로 푼거라 애매하네요.\n",
    "\n",
    "PUA:Win32/Presenoker\n",
    "\n",
    "이건 여러개 나왔는데 불법게임인 워크래프트3에 유명한 툴인 m16tool.exe 에서 하나, 어디서 받았는지 모르는 롤러코스터관련 reg.exe파일, 그리고 이건 정식 홈페이지에서 무료다운한 unlocker 라는 프로그램에서 나왔습니다.\n",
    "\n",
    "우선 데몬툴즈, unlocker는 정식이라서, 워크래프트3의 m16tool는 워3 한번해봤다하면 너무 유명한거라.. 그리고 agth는 아직 버리기 아까워서 실행은 못시키고 제외설정에 넣어서 삭제 안시켰구요.\n",
    "\n",
    "토렌트은 필요없고 롤러코스터는 직접산것도 있고 수상하기도 해서 제거시켰습니다.\n",
    "\n",
    "근데 정식파일도 있고 그런데 바이러스 취급을 왜하는지... 굳이 신경써야하는건지 다 삭제해야하는지! 궁금하네요.\"\"\"}],\n",
    ")\n"
   ],
   "id": "3b07cd7714ca935c",
   "outputs": [],
   "execution_count": 17
  },
  {
   "metadata": {
    "ExecuteTime": {
     "end_time": "2025-05-13T13:42:14.817846Z",
     "start_time": "2025-05-13T13:42:14.812859Z"
    }
   },
   "cell_type": "code",
   "source": [
    "res_list = response.messages[-1]['content'].split('\\n</think>')\n",
    "res_list = res_list[-1].strip()\n",
    "\n",
    "res_list"
   ],
   "id": "9db21822b8f76e49",
   "outputs": [
    {
     "data": {
      "text/plain": [
       "'사용자는 정식 프로그램(데몬툴즈, uTorrent, Unlocker 등)도 PUA 또는 바이러스로 오인받는 현상에 대해 혼란스러워하며, 이는 false positive 가능성이나 악성코드 탐지 오류로 인한 것으로, 파일 출처와 동작 방식을 확인해 추가 조치가 필요하다고 판단합니다.'"
      ]
     },
     "execution_count": 22,
     "metadata": {},
     "output_type": "execute_result"
    }
   ],
   "execution_count": 22
  }
 ],
 "metadata": {
  "kernelspec": {
   "display_name": "Python 3",
   "language": "python",
   "name": "python3"
  },
  "language_info": {
   "codemirror_mode": {
    "name": "ipython",
    "version": 2
   },
   "file_extension": ".py",
   "mimetype": "text/x-python",
   "name": "python",
   "nbconvert_exporter": "python",
   "pygments_lexer": "ipython2",
   "version": "2.7.6"
  }
 },
 "nbformat": 4,
 "nbformat_minor": 5
}
